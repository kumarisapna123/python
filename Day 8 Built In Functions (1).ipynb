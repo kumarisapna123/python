{
 "cells": [
  {
   "cell_type": "markdown",
   "metadata": {},
   "source": [
    "# Built In Functions(Developer defined) in Python3"
   ]
  },
  {
   "cell_type": "code",
   "execution_count": null,
   "metadata": {},
   "outputs": [],
   "source": [
    "# There are total 67 functions supported in python3.\n",
    "# these functions do not need to definition, we just need to call them."
   ]
  },
  {
   "cell_type": "code",
   "execution_count": null,
   "metadata": {},
   "outputs": [],
   "source": [
    "# two steps of a functions.\n",
    "# 1) function definition\n",
    "# 2) function calling."
   ]
  },
  {
   "cell_type": "code",
   "execution_count": null,
   "metadata": {},
   "outputs": [],
   "source": [
    "# step 1: function defintion.since i am the user , i have defined this \n",
    "# function , so it is called user defined function.\n",
    "def func(name):\n",
    "    print(name)"
   ]
  },
  {
   "cell_type": "code",
   "execution_count": null,
   "metadata": {},
   "outputs": [],
   "source": [
    "# step 2: fuction calling.\n",
    "\n",
    "func('abhishek')"
   ]
  },
  {
   "cell_type": "code",
   "execution_count": null,
   "metadata": {},
   "outputs": [],
   "source": [
    "# functions are of two types : 1) user defined functions (two steps)\n",
    "# 2) built functions (single step) : only calling."
   ]
  },
  {
   "cell_type": "markdown",
   "metadata": {},
   "source": [
    "# Built in functions starts here. "
   ]
  },
  {
   "cell_type": "code",
   "execution_count": null,
   "metadata": {},
   "outputs": [],
   "source": [
    "# 1) abs() : It returns the absolute value of the paramters passed.\n",
    "\n",
    "print(abs(-1))\n",
    "print(abs(1))\n",
    "print(abs(-9.11))\n",
    "print(abs(9.11))\n",
    "# print(abs('a'))"
   ]
  },
  {
   "cell_type": "code",
   "execution_count": null,
   "metadata": {},
   "outputs": [],
   "source": [
    "# 2) all() :  takes a container(any complex data type/ iterable) as an argument.\n",
    "# empty returns false.\n",
    "# underlying operation performed is \" and \" operation.\n",
    "# if atleast one empty , then it will return false.\n",
    "\n",
    "print(all(['C','A','B']))\n",
    "print(all(['','A','B']))\n",
    "print(all(['','A','']))"
   ]
  },
  {
   "cell_type": "code",
   "execution_count": null,
   "metadata": {},
   "outputs": [],
   "source": [
    "# 3) any :  Or operation is performed, and for empty it return false and otherwise true.\n",
    "\n",
    "print(any(['C','A','B']))\n",
    "print(any(['','','']))\n",
    "print(any(['','A','']))"
   ]
  },
  {
   "cell_type": "code",
   "execution_count": null,
   "metadata": {},
   "outputs": [],
   "source": [
    "# 4) ascii() : returns a printable representation of a python object (like a string or a Python list).\n",
    "\n",
    "print(ascii('a'))\n",
    "print(ascii(10))\n",
    "print(ascii('$'))\n",
    "print(ascii('%'))"
   ]
  },
  {
   "cell_type": "code",
   "execution_count": null,
   "metadata": {},
   "outputs": [],
   "source": [
    "# 5) bin() : it converts an integer(not float) to a binary string. it always starts 0b.\n",
    "\n",
    "print(bin(10))\n",
    "print(type(bin(10)))"
   ]
  },
  {
   "cell_type": "code",
   "execution_count": null,
   "metadata": {},
   "outputs": [],
   "source": [
    "# 5) bool()\n",
    "print(bool(''))\n",
    "print(bool(' '))"
   ]
  },
  {
   "cell_type": "code",
   "execution_count": null,
   "metadata": {},
   "outputs": [],
   "source": [
    "# 6) bytearray(integer)  : returns a python array of a given byte size , it is mutable.\n",
    "\n",
    "a=list([10,12]) # bus seat reservation example .\n",
    "b=bytearray(4)\n",
    "print(b)"
   ]
  },
  {
   "cell_type": "code",
   "execution_count": null,
   "metadata": {},
   "outputs": [],
   "source": [
    "b.append(1)"
   ]
  },
  {
   "cell_type": "code",
   "execution_count": null,
   "metadata": {},
   "outputs": [],
   "source": [
    "print(b)"
   ]
  },
  {
   "cell_type": "code",
   "execution_count": null,
   "metadata": {},
   "outputs": [],
   "source": [
    "b.append(2)"
   ]
  },
  {
   "cell_type": "code",
   "execution_count": null,
   "metadata": {},
   "outputs": [],
   "source": [
    "print(b)"
   ]
  },
  {
   "cell_type": "code",
   "execution_count": null,
   "metadata": {},
   "outputs": [],
   "source": [
    "c=bytearray([1,2,3,4,4,5,5,6,6])"
   ]
  },
  {
   "cell_type": "code",
   "execution_count": null,
   "metadata": {},
   "outputs": [],
   "source": [
    "print(c)"
   ]
  },
  {
   "cell_type": "code",
   "execution_count": null,
   "metadata": {},
   "outputs": [],
   "source": [
    "for x in c:\n",
    "    print(x, end=\" \")"
   ]
  },
  {
   "cell_type": "code",
   "execution_count": null,
   "metadata": {},
   "outputs": [],
   "source": [
    "print(c[0])"
   ]
  },
  {
   "cell_type": "code",
   "execution_count": null,
   "metadata": {},
   "outputs": [],
   "source": [
    "c[0]=10 # it is mutable(changeable)"
   ]
  },
  {
   "cell_type": "code",
   "execution_count": null,
   "metadata": {},
   "outputs": [],
   "source": [
    "print(c[0])"
   ]
  },
  {
   "cell_type": "code",
   "execution_count": null,
   "metadata": {},
   "outputs": [],
   "source": [
    "for x in c:\n",
    "    print(x, end=\" \")"
   ]
  },
  {
   "cell_type": "code",
   "execution_count": null,
   "metadata": {},
   "outputs": [],
   "source": [
    "#7 ) bytes() : returns an immutable bytes object.\n",
    "c=bytes([1,2,3,4,4,5,5,6,6])"
   ]
  },
  {
   "cell_type": "code",
   "execution_count": null,
   "metadata": {},
   "outputs": [],
   "source": [
    "for x in c:\n",
    "    print(x, end=\" \")"
   ]
  },
  {
   "cell_type": "code",
   "execution_count": null,
   "metadata": {},
   "outputs": [],
   "source": [
    "c[0]=11 # since it is not mutable."
   ]
  },
  {
   "cell_type": "code",
   "execution_count": null,
   "metadata": {},
   "outputs": [],
   "source": [
    "d=bytes(\"abhishek\", 'utf-8')\n",
    "\n",
    "for x in d:\n",
    "    print(x, end=\" \")"
   ]
  },
  {
   "cell_type": "code",
   "execution_count": null,
   "metadata": {},
   "outputs": [],
   "source": [
    "# 8) callable() : it returns true or false. it is used to check what is callable and what is not callable.\n",
    "\n",
    "\n",
    "print(callable([1,2,3]))\n",
    "print(callable(callable))\n",
    "print(callable(list))\n",
    "\n",
    "\n",
    "# A function is callable, a list is not. \n",
    "# Even the callable() python Built In function is callable.\n",
    "\n"
   ]
  },
  {
   "cell_type": "code",
   "execution_count": null,
   "metadata": {},
   "outputs": [],
   "source": [
    "# why do we need something is callable or not."
   ]
  },
  {
   "cell_type": "code",
   "execution_count": null,
   "metadata": {},
   "outputs": [],
   "source": [
    "# we know list transformation can be done using list comprehension.\n",
    "\n",
    "lis=[1,2,3,4,5]\n",
    "lis=[ x** 2 for x in lis]\n",
    "print(lis)"
   ]
  },
  {
   "cell_type": "code",
   "execution_count": null,
   "metadata": {},
   "outputs": [],
   "source": [
    "def square(x):\n",
    "    return x**2\n",
    "\n",
    "lis=[1,2,3,4,5]\n",
    "lis=[ square(x) for x in lis]\n",
    "print(lis)"
   ]
  },
  {
   "cell_type": "code",
   "execution_count": null,
   "metadata": {},
   "outputs": [],
   "source": [
    "def check(lis, y):\n",
    "    lis=[ y(x) for x in lis]\n",
    "    return lis\n",
    "\n"
   ]
  },
  {
   "cell_type": "code",
   "execution_count": null,
   "metadata": {},
   "outputs": [],
   "source": [
    "import math\n",
    "check([1,2,3],square)\n",
    "       \n",
    "check(check([1,2,3],square),square)\n",
    "\n",
    "lis=[int(x) for x in check(check(check([1,2,3],square),square),math.sqrt)]\n",
    "print(lis)"
   ]
  },
  {
   "cell_type": "code",
   "execution_count": null,
   "metadata": {},
   "outputs": [],
   "source": [
    "def func(x):\n",
    "    return x+1\n",
    "\n",
    "\n",
    "def func2(x , y):\n",
    "    tmp=[]\n",
    "    for t in x:\n",
    "        tmp.append(y(t))\n",
    "    return tmp\n",
    "    \n",
    "    \n",
    "        \n",
    "    "
   ]
  },
  {
   "cell_type": "code",
   "execution_count": null,
   "metadata": {},
   "outputs": [],
   "source": [
    "\n",
    "x=func2([1,2,4],func)"
   ]
  },
  {
   "cell_type": "code",
   "execution_count": null,
   "metadata": {},
   "outputs": [],
   "source": [
    "print(x)"
   ]
  },
  {
   "cell_type": "code",
   "execution_count": null,
   "metadata": {},
   "outputs": [],
   "source": []
  },
  {
   "cell_type": "code",
   "execution_count": null,
   "metadata": {},
   "outputs": [],
   "source": [
    "def func(a,b):\n",
    "     print(a,b)\n",
    "        \n",
    "\n",
    "def func2(z,t):\n",
    "    z(*t)\n",
    "\n",
    "    \n",
    "    \n",
    "# z is the function name. This function is going to be called on each element of the iterable.\n",
    "# t is the iterable."
   ]
  },
  {
   "cell_type": "code",
   "execution_count": null,
   "metadata": {},
   "outputs": [],
   "source": [
    "func2(func,[\"hello\",\"manuel\"])"
   ]
  },
  {
   "cell_type": "code",
   "execution_count": null,
   "metadata": {},
   "outputs": [],
   "source": [
    "def func(x):\n",
    "    print(x**2)\n",
    "    \n",
    "    \n",
    "def func2(z,t):\n",
    "    for x in t:\n",
    "        z(x)\n",
    "    "
   ]
  },
  {
   "cell_type": "code",
   "execution_count": null,
   "metadata": {},
   "outputs": [],
   "source": [
    "func2(func,[2,3,4])"
   ]
  },
  {
   "cell_type": "code",
   "execution_count": null,
   "metadata": {},
   "outputs": [],
   "source": [
    "#9) chr() : \n",
    "print(chr(97))"
   ]
  },
  {
   "cell_type": "code",
   "execution_count": null,
   "metadata": {},
   "outputs": [],
   "source": [
    "#10) ord()\n",
    "\n",
    "print(ord('a'))"
   ]
  },
  {
   "cell_type": "code",
   "execution_count": null,
   "metadata": {},
   "outputs": [],
   "source": [
    "# 11) dict() : when we pass list of tuples, it automatically converts into key and value pair.\n",
    "dict([(1,2),(3,4)])"
   ]
  },
  {
   "cell_type": "code",
   "execution_count": null,
   "metadata": {},
   "outputs": [],
   "source": [
    "dict([(1,2,6),(3,4,7)])"
   ]
  },
  {
   "cell_type": "code",
   "execution_count": null,
   "metadata": {},
   "outputs": [],
   "source": [
    "dict([(1,(2,6)),(3,(4,7))])"
   ]
  },
  {
   "cell_type": "code",
   "execution_count": null,
   "metadata": {},
   "outputs": [],
   "source": [
    "# 12) dir() : it returns object attributes.\n",
    "print(dir(int))\n",
    "print(dir(str))"
   ]
  },
  {
   "cell_type": "code",
   "execution_count": null,
   "metadata": {},
   "outputs": [],
   "source": [
    "print(dir(str))"
   ]
  },
  {
   "cell_type": "code",
   "execution_count": null,
   "metadata": {},
   "outputs": [],
   "source": [
    "print(dir(list))"
   ]
  },
  {
   "cell_type": "code",
   "execution_count": null,
   "metadata": {},
   "outputs": [],
   "source": [
    "# 13)  divmod() : takes two parameters, and returns a tuple of their quotient and remainder."
   ]
  },
  {
   "cell_type": "code",
   "execution_count": null,
   "metadata": {},
   "outputs": [],
   "source": [
    "q,r= divmod(10,12)\n",
    "print(q,r)"
   ]
  },
  {
   "cell_type": "code",
   "execution_count": null,
   "metadata": {},
   "outputs": [],
   "source": []
  },
  {
   "cell_type": "code",
   "execution_count": null,
   "metadata": {},
   "outputs": [],
   "source": [
    "# 14) enumerate():\n",
    "for i in enumerate(['red','blue','gree']):\n",
    "                print(i)\n",
    "        \n",
    "a=enumerate(['red','blue','gree'])\n",
    "\n",
    "for x in a:\n",
    "    print(x)"
   ]
  },
  {
   "cell_type": "code",
   "execution_count": null,
   "metadata": {},
   "outputs": [],
   "source": [
    "# 15 ) eval () : takes a string as an argument, which is parsed as an expression.\n",
    "from pprint import pprint \n",
    "\n",
    "\n",
    "str='''print('5+6'),\n",
    "print(eval('5+6')),\n",
    "x=7,\n",
    "print(eval('x+7')),\n",
    "print(eval('x+(x%2)')),print('5+6')\n",
    "print(eval('5+6'))\n",
    "x=7\n",
    "print(eval('x+7'))\n",
    "print(eval('x+(x%2)'))'''\n",
    "pprint(eval('print(\"abhishek\")'))\n",
    "print(eval('''print('5+6')\n",
    "print(eval('5+6'))\n",
    "x=7\n",
    "print(eval('x+7'))\n",
    "print(eval('x+(x%2)'))print('5+6')\n",
    "print(eval('5+6'))\n",
    "x=7\n",
    "print(eval('x+7'))\n",
    "print(eval('x+(x%2)'))'''))\n"
   ]
  },
  {
   "cell_type": "code",
   "execution_count": null,
   "metadata": {},
   "outputs": [],
   "source": [
    "# exec() : runs Python code dynamically.\n",
    "exec('a=2;b=3;print(a+b)')\n",
    "exec(input(\"Enter your program\"))\n"
   ]
  },
  {
   "cell_type": "code",
   "execution_count": null,
   "metadata": {},
   "outputs": [],
   "source": [
    "# compile() returns a Python code object. \n",
    "# We use Python in built function to convert a string code into object code.\n",
    "# ‘exec’ is the mode. The parameter before that is the filename for the\n",
    "# file form which the code is read.\n",
    "\n",
    "exec(compile('a=5\\nb=7\\nprint(a+b)','','exec'))\n",
    "\n"
   ]
  },
  {
   "cell_type": "code",
   "execution_count": null,
   "metadata": {},
   "outputs": [],
   "source": [
    "#filter() filters out the items for which the condition is True.\n",
    "\n",
    "list=['sapna','abhishek','sanu','amrita']\n",
    "filter1=[x  for x in list if len(x)>=5 ]\n",
    "print(filter1)\n",
    "\n",
    "def check(x):\n",
    "    if x.startswith('a') & x.endswith('a') & len(x)>=5:\n",
    "        return True\n",
    "    else:\n",
    "        return False\n",
    "\n",
    "\n",
    "# filter2 = [print(x) for x in list if x.startswith('a')]\n",
    "\n",
    "# filter3 = [print(x) for x in list if x.endswith('a')]\n",
    "\n",
    "# filter4 = [print(x) for x in list if check(x)==True]\n",
    "\n",
    "a= filter(lambda x: x.startswith('a') | x.startswith('s') ,['sapna','abhishek','sanu','amrita'])\n",
    "\n",
    "for x in a:\n",
    "    print(x)"
   ]
  },
  {
   "cell_type": "code",
   "execution_count": null,
   "metadata": {},
   "outputs": [],
   "source": [
    "#Like filter(), map() Python built-in functions, \n",
    "#takes a function and applies it on an iterable. \n",
    "# It maps True or False values on each item in the iterable.\n",
    "\n",
    "a= map(lambda x:x%2==0,[1,2,3,4,5])\n",
    "\n",
    "b=[x for x in a if x==True]\n",
    "\n",
    "print(b)\n",
    "    \n",
    "\n"
   ]
  },
  {
   "cell_type": "code",
   "execution_count": null,
   "metadata": {},
   "outputs": [],
   "source": []
  },
  {
   "cell_type": "code",
   "execution_count": null,
   "metadata": {},
   "outputs": [],
   "source": [
    "#frozenset() returns an immutable frozenset object.\n",
    "a=frozenset((3,2,4))\n",
    "print(a)\n",
    "\n",
    "\n",
    "for x in a:\n",
    "    print(x)"
   ]
  },
  {
   "cell_type": "code",
   "execution_count": null,
   "metadata": {},
   "outputs": [],
   "source": [
    "# globals() returns a dictionary of the current global symbol table.\n",
    "\n",
    "#print(globals())"
   ]
  },
  {
   "cell_type": "code",
   "execution_count": null,
   "metadata": {},
   "outputs": [],
   "source": [
    "#locals() This function returns a dictionary of the current local symbol table.\n",
    "#print(locals())\n"
   ]
  },
  {
   "cell_type": "code",
   "execution_count": null,
   "metadata": {},
   "outputs": [],
   "source": [
    "# hash() function returns the hash value of an object. \n",
    "# And in Python, everything is an object."
   ]
  },
  {
   "cell_type": "code",
   "execution_count": null,
   "metadata": {},
   "outputs": [],
   "source": [
    "print(hash('orange'))\n",
    "print(hash(True))\n",
    "print(hash(hash))"
   ]
  },
  {
   "cell_type": "code",
   "execution_count": null,
   "metadata": {},
   "outputs": [],
   "source": [
    "# help():\n",
    "#To get details about any module, keyword, symbol, or topic, we use the help() function.\n",
    "\n",
    "help()"
   ]
  },
  {
   "cell_type": "code",
   "execution_count": null,
   "metadata": {},
   "outputs": [],
   "source": [
    "#hex()\n",
    "#hex(False)\n",
    "#oct()\n",
    "#oct() converts an integer to its octal representation.\n",
    "print(bin(10))\n",
    "print(type(bin(10)))"
   ]
  },
  {
   "cell_type": "code",
   "execution_count": 11,
   "metadata": {},
   "outputs": [
    {
     "name": "stdout",
     "output_type": "stream",
     "text": [
      "140713335863360\n",
      "140713335863392\n",
      "10\n",
      "2362419045312\n",
      "2362419045312\n",
      "[1, 2, 3, 75]\n"
     ]
    },
    {
     "data": {
      "text/plain": [
       "True"
      ]
     },
     "execution_count": 11,
     "metadata": {},
     "output_type": "execute_result"
    }
   ],
   "source": [
    "#id() returns an object’s identity\n",
    "\n",
    "a= 10\n",
    "print(id(a))\n",
    "b=a\n",
    "b=11\n",
    "print(id(b))\n",
    "print(a)\n",
    "\n",
    "lis=[1,2,3]\n",
    "lis2=lis\n",
    "lis2.append(75)\n",
    "print(id(lis))\n",
    "print(id(lis2))\n",
    "print(lis)\n",
    "\n",
    "id({1,2,3})==id({1,3,2})"
   ]
  },
  {
   "cell_type": "code",
   "execution_count": 13,
   "metadata": {},
   "outputs": [
    {
     "name": "stdout",
     "output_type": "stream",
     "text": [
      "1\n",
      "2\n",
      "3\n"
     ]
    }
   ],
   "source": [
    "#Iter() Python built-in functions, returns a python iterator for an object.\n",
    "for i in iter([1,2,3]):\n",
    "     print(i)\n",
    "           "
   ]
  },
  {
   "cell_type": "code",
   "execution_count": 14,
   "metadata": {},
   "outputs": [
    {
     "data": {
      "text/plain": [
       "'hello'"
      ]
     },
     "execution_count": 14,
     "metadata": {},
     "output_type": "execute_result"
    }
   ],
   "source": [
    "max('hello','Hello')"
   ]
  },
  {
   "cell_type": "code",
   "execution_count": 15,
   "metadata": {},
   "outputs": [
    {
     "data": {
      "text/plain": [
       "<memory at 0x000002260B120D00>"
      ]
     },
     "execution_count": 15,
     "metadata": {},
     "output_type": "execute_result"
    }
   ],
   "source": [
    "#memoryview() shows us the memory view of an argument.\n",
    "a=bytes(4)\n",
    "memoryview(a)"
   ]
  },
  {
   "cell_type": "code",
   "execution_count": null,
   "metadata": {},
   "outputs": [],
   "source": [
    "#This Python Built In function returns the next element from the iterator.\n",
    "\n",
    "# next(): it takes iterator as a parameter."
   ]
  },
  {
   "cell_type": "code",
   "execution_count": 23,
   "metadata": {},
   "outputs": [
    {
     "data": {
      "text/plain": [
       "5"
      ]
     },
     "execution_count": 23,
     "metadata": {},
     "output_type": "execute_result"
    }
   ],
   "source": [
    "myIterator=iter([1,2,3,4,5])\n",
    "next(myIterator)\n",
    "next(myIterator)\n",
    "next(myIterator)\n",
    "next(myIterator)\n",
    "next(myIterator)\n"
   ]
  },
  {
   "cell_type": "code",
   "execution_count": 24,
   "metadata": {},
   "outputs": [
    {
     "data": {
      "text/plain": [
       "['__class__',\n",
       " '__delattr__',\n",
       " '__dir__',\n",
       " '__doc__',\n",
       " '__eq__',\n",
       " '__format__',\n",
       " '__ge__',\n",
       " '__getattribute__',\n",
       " '__gt__',\n",
       " '__hash__',\n",
       " '__init__',\n",
       " '__init_subclass__',\n",
       " '__le__',\n",
       " '__lt__',\n",
       " '__ne__',\n",
       " '__new__',\n",
       " '__reduce__',\n",
       " '__reduce_ex__',\n",
       " '__repr__',\n",
       " '__setattr__',\n",
       " '__sizeof__',\n",
       " '__str__',\n",
       " '__subclasshook__']"
      ]
     },
     "execution_count": 24,
     "metadata": {},
     "output_type": "execute_result"
    }
   ],
   "source": [
    "#Object() Python built-in functions, creates a featureless object.\n",
    "o=object()\n",
    "type(o)\n",
    "dir(o)"
   ]
  },
  {
   "cell_type": "code",
   "execution_count": 34,
   "metadata": {},
   "outputs": [
    {
     "data": {
      "text/plain": [
       "0.02"
      ]
     },
     "execution_count": 34,
     "metadata": {},
     "output_type": "execute_result"
    }
   ],
   "source": [
    "#pow() takes two arguments- say, x and y. It then returns the value of x to the power of y.\n",
    "round(pow(7,-2),2)"
   ]
  },
  {
   "cell_type": "code",
   "execution_count": null,
   "metadata": {},
   "outputs": [],
   "source": [
    "#The function property() returns a property attribute. Alternatively, we can use the syntactic sugar @property."
   ]
  },
  {
   "cell_type": "code",
   "execution_count": 30,
   "metadata": {},
   "outputs": [
    {
     "name": "stdout",
     "output_type": "stream",
     "text": [
      "range(7, 2, -2)\n",
      "'Hello'\n",
      "False\n"
     ]
    }
   ],
   "source": [
    "print(range(7,2,-2))\n",
    "print(repr(\"Hello\"))\n",
    "print(repr(False))"
   ]
  },
  {
   "cell_type": "code",
   "execution_count": 33,
   "metadata": {},
   "outputs": [
    {
     "name": "stdout",
     "output_type": "stream",
     "text": [
      "1\n",
      "2\n",
      "3\n"
     ]
    },
    {
     "data": {
      "text/plain": [
       "list_reverseiterator"
      ]
     },
     "execution_count": 33,
     "metadata": {},
     "output_type": "execute_result"
    }
   ],
   "source": [
    "#This functions reverses the contents of an iterable and returns an iterator object.\n",
    "a=reversed([3,2,1])\n",
    "a\n",
    "for i in a:\n",
    "    print(i)\n",
    "type(a)\n"
   ]
  },
  {
   "cell_type": "code",
   "execution_count": 38,
   "metadata": {},
   "outputs": [
    {
     "name": "stdout",
     "output_type": "stream",
     "text": [
      "3.78\n",
      "0.0\n",
      "380.0\n"
     ]
    }
   ],
   "source": [
    "#The rounding factor can be negative.\n",
    "print(round(3.777,2))\n",
    "print(round(3.777,-1))\n",
    "print(round(377.77,-1))\n"
   ]
  },
  {
   "cell_type": "code",
   "execution_count": null,
   "metadata": {},
   "outputs": [],
   "source": []
  },
  {
   "cell_type": "code",
   "execution_count": 43,
   "metadata": {},
   "outputs": [
    {
     "data": {
      "text/plain": [
       "'hse'"
      ]
     },
     "execution_count": 43,
     "metadata": {},
     "output_type": "execute_result"
    }
   ],
   "source": [
    "# slice opertor vs slice function.\n",
    "# slice() returns a slice object that represents the set of indices specified by range(start, stop, step).\n",
    "# We can use this to iterate on an iterable like a string in python.\n",
    "#slice(2,7,2)\n",
    "\n",
    "'Abhishek'[slice(2,7,2)]"
   ]
  },
  {
   "cell_type": "code",
   "execution_count": 46,
   "metadata": {},
   "outputs": [
    {
     "data": {
      "text/plain": [
       "['P', 'h', 'n', 'o', 't', 'y']"
      ]
     },
     "execution_count": 46,
     "metadata": {},
     "output_type": "execute_result"
    }
   ],
   "source": [
    "# sorted() prints out a sorted version of an iterable. It does not, however, alter the iterable.\n",
    "sorted('Python')\n",
    "\n"
   ]
  },
  {
   "cell_type": "code",
   "execution_count": 48,
   "metadata": {},
   "outputs": [
    {
     "data": {
      "text/plain": [
       "'[1, 2, 3]'"
      ]
     },
     "execution_count": 48,
     "metadata": {},
     "output_type": "execute_result"
    }
   ],
   "source": [
    "#str() takes an argument and returns the string equivalent of it\n",
    "str('Hello')\n",
    "str(8.7)\n",
    "str(False)\n",
    "str([1,2,3])"
   ]
  },
  {
   "cell_type": "code",
   "execution_count": 55,
   "metadata": {},
   "outputs": [
    {
     "data": {
      "text/plain": [
       "'Hello'"
      ]
     },
     "execution_count": 55,
     "metadata": {},
     "output_type": "execute_result"
    }
   ],
   "source": [
    "str('Hello')\n"
   ]
  },
  {
   "cell_type": "code",
   "execution_count": null,
   "metadata": {},
   "outputs": [],
   "source": []
  },
  {
   "cell_type": "code",
   "execution_count": null,
   "metadata": {},
   "outputs": [],
   "source": []
  },
  {
   "cell_type": "code",
   "execution_count": 49,
   "metadata": {},
   "outputs": [
    {
     "data": {
      "text/plain": [
       "15"
      ]
     },
     "execution_count": 49,
     "metadata": {},
     "output_type": "execute_result"
    }
   ],
   "source": [
    "#The function sum() takes an iterable as an argument, and returns the sum of all values.\n",
    "sum([3,4,5],3)"
   ]
  },
  {
   "cell_type": "code",
   "execution_count": 51,
   "metadata": {},
   "outputs": [
    {
     "data": {
      "text/plain": [
       "(1, 2)"
      ]
     },
     "execution_count": 51,
     "metadata": {},
     "output_type": "execute_result"
    }
   ],
   "source": [
    "tuple({1:'a',2:'b'})"
   ]
  },
  {
   "cell_type": "code",
   "execution_count": 53,
   "metadata": {},
   "outputs": [
    {
     "data": {
      "text/plain": [
       "int"
      ]
     },
     "execution_count": 53,
     "metadata": {},
     "output_type": "execute_result"
    }
   ],
   "source": [
    "#type({}) : represents type of object.\n",
    "type((1,))\n",
    "type((1))"
   ]
  },
  {
   "cell_type": "code",
   "execution_count": null,
   "metadata": {},
   "outputs": [],
   "source": [
    "#vars() function returns the __dict__ attribute of a class."
   ]
  },
  {
   "cell_type": "code",
   "execution_count": 56,
   "metadata": {},
   "outputs": [
    {
     "data": {
      "text/plain": [
       "(1, 'a')"
      ]
     },
     "execution_count": 56,
     "metadata": {},
     "output_type": "execute_result"
    }
   ],
   "source": [
    "#zip() returns us an iterator of tuples.\n",
    "set(zip([1,2,3],['a','b','c']))\n",
    "set(zip([1,2],[3,4,5]))\n",
    "a=zip([1,2,3],['a','b','c'])\n",
    "\n",
    "x,y,z=a\n",
    "x"
   ]
  },
  {
   "cell_type": "code",
   "execution_count": 57,
   "metadata": {},
   "outputs": [
    {
     "data": {
      "text/plain": [
       "{(1, 'a'), (2, 'b'), (3, 'c')}"
      ]
     },
     "execution_count": 57,
     "metadata": {},
     "output_type": "execute_result"
    }
   ],
   "source": [
    "set(zip([1,2,3],['a','b','c']))"
   ]
  },
  {
   "cell_type": "code",
   "execution_count": 58,
   "metadata": {},
   "outputs": [
    {
     "data": {
      "text/plain": [
       "{(1, 3), (2, 4)}"
      ]
     },
     "execution_count": 58,
     "metadata": {},
     "output_type": "execute_result"
    }
   ],
   "source": [
    "set(zip([1,2],[3,4,5]))"
   ]
  },
  {
   "cell_type": "code",
   "execution_count": null,
   "metadata": {},
   "outputs": [],
   "source": []
  },
  {
   "cell_type": "code",
   "execution_count": null,
   "metadata": {},
   "outputs": [],
   "source": []
  },
  {
   "cell_type": "markdown",
   "metadata": {},
   "source": [
    "# Functions which works on class and objects."
   ]
  },
  {
   "cell_type": "code",
   "execution_count": null,
   "metadata": {},
   "outputs": [],
   "source": [
    "isinstance(0,str)"
   ]
  },
  {
   "cell_type": "code",
   "execution_count": null,
   "metadata": {},
   "outputs": [],
   "source": [
    "35. issubclass()\n",
    "This Python Built In function takes two arguments- two python classes. If the first class is a subclass of the second, it returns True."
   ]
  },
  {
   "cell_type": "code",
   "execution_count": null,
   "metadata": {},
   "outputs": [],
   "source": [
    "setattr()"
   ]
  },
  {
   "cell_type": "code",
   "execution_count": null,
   "metadata": {},
   "outputs": [],
   "source": [
    "staticmethod()"
   ]
  },
  {
   "cell_type": "code",
   "execution_count": null,
   "metadata": {},
   "outputs": [],
   "source": [
    "super()"
   ]
  },
  {
   "cell_type": "markdown",
   "metadata": {},
   "source": [
    "# File handling methods/functions"
   ]
  },
  {
   "cell_type": "code",
   "execution_count": null,
   "metadata": {},
   "outputs": [],
   "source": []
  }
 ],
 "metadata": {
  "kernelspec": {
   "display_name": "Python 3",
   "language": "python",
   "name": "python3"
  },
  "language_info": {
   "codemirror_mode": {
    "name": "ipython",
    "version": 3
   },
   "file_extension": ".py",
   "mimetype": "text/x-python",
   "name": "python",
   "nbconvert_exporter": "python",
   "pygments_lexer": "ipython3",
   "version": "3.8.3"
  }
 },
 "nbformat": 4,
 "nbformat_minor": 4
}
