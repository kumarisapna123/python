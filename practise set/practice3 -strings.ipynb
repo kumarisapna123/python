{
 "cells": [
  {
   "cell_type": "code",
   "execution_count": 1,
   "metadata": {},
   "outputs": [
    {
     "name": "stdout",
     "output_type": "stream",
     "text": [
      "anpas\n"
     ]
    }
   ],
   "source": [
    "# write a program to reverse content of the given string by using slice operator.\n",
    "\n",
    "name=\"sapna\"\n",
    "print(name[::-1])"
   ]
  },
  {
   "cell_type": "code",
   "execution_count": 2,
   "metadata": {},
   "outputs": [
    {
     "name": "stdout",
     "output_type": "stream",
     "text": [
      "['a', 'n', 'p', 'a', 's', 'i', 'r', 'a', 'm', 'u', 'k']\n"
     ]
    }
   ],
   "source": [
    "# write a program to reverse the content of the given string by using reverse() function.\n",
    "\n",
    "name=\"kumarisapna\"\n",
    "msg=list(name)\n",
    "msg.reverse()\n",
    "print(msg)\n"
   ]
  },
  {
   "cell_type": "code",
   "execution_count": 24,
   "metadata": {},
   "outputs": [
    {
     "name": "stdout",
     "output_type": "stream",
     "text": [
      "anpas iramuk"
     ]
    }
   ],
   "source": [
    "# write a program to reverse content of the given string by using while loop.\n",
    "\n",
    "name=\"kumari sapna\"\n",
    "\n",
    "\n",
    "count=-1\n",
    "while (count>=-len(name)):\n",
    "    print(name[count], end=\"\")\n",
    "    count=count-1\n"
   ]
  },
  {
   "cell_type": "code",
   "execution_count": 27,
   "metadata": {},
   "outputs": [
    {
     "name": "stdout",
     "output_type": "stream",
     "text": [
      "['a', 'n', 'p', 'a', 's', ' ', 'i', 'r', 'a', 'm', 'u', 'k']\n"
     ]
    }
   ],
   "source": [
    "# write a program to reverse order of words present in the given string .\n",
    "\n",
    "name=\"kumari sapna\"\n",
    "words=list(name)\n",
    "words.reverse()\n",
    "print(words)\n",
    "\n"
   ]
  },
  {
   "cell_type": "code",
   "execution_count": 18,
   "metadata": {},
   "outputs": [
    {
     "name": "stdout",
     "output_type": "stream",
     "text": [
      "['ym', 'eman', 'si', 'iramuk', 'anpas']\n"
     ]
    }
   ],
   "source": [
    "# write a program to reverse internal content of each word. \n",
    "\n",
    "msg=\"my name is kumari sapna\"\n",
    "words=msg.split()\n",
    "content=[x[::-1] for x in words]\n",
    "print(content)\n",
    "\n"
   ]
  },
  {
   "cell_type": "code",
   "execution_count": 36,
   "metadata": {},
   "outputs": [
    {
     "name": "stdout",
     "output_type": "stream",
     "text": [
      "['eman', 'iramuk']\n"
     ]
    }
   ],
   "source": [
    "#write a program to reverse internal content of every second word present in the given string.\n",
    "\n",
    "msg=\"my name is kumari sapna\"\n",
    "words=msg.split()\n",
    "content=[x[::-1] for x in words]\n",
    "\n",
    "print(content[1::2])\n"
   ]
  },
  {
   "cell_type": "code",
   "execution_count": 4,
   "metadata": {},
   "outputs": [
    {
     "name": "stdout",
     "output_type": "stream",
     "text": [
      "ynm skmr an\n",
      "m aei uaispa\n"
     ]
    }
   ],
   "source": [
    "# program: print characters present at even and odd index seperately for given string.\n",
    "\n",
    "string=\"my name is kumari sapna\"\n",
    "print(string[1::2])\n",
    "print(string[0::2])"
   ]
  },
  {
   "cell_type": "code",
   "execution_count": null,
   "metadata": {},
   "outputs": [],
   "source": [
    "# program to merge characters of 2 strings by taking characters alternatively.\n",
    "\n",
    "new list=[]\n"
   ]
  },
  {
   "cell_type": "code",
   "execution_count": 42,
   "metadata": {},
   "outputs": [
    {
     "name": "stdout",
     "output_type": "stream",
     "text": [
      "['1', '2', '3', 'a', 'a', 'a', 'i', 'k', 'm', 'n', 'p', 'r', 's', 'u']\n"
     ]
    }
   ],
   "source": [
    "#program: sort characters of the string ,first alphabet symbols followed by digits.\n",
    "\n",
    "name=\"kumarisapna123\"\n",
    "msg=list(name)\n",
    "msg.sort()\n",
    "print(msg)"
   ]
  },
  {
   "cell_type": "code",
   "execution_count": null,
   "metadata": {},
   "outputs": [],
   "source": [
    "# program for the requirement , input a4b3c2 and expected output aaaabbbcc."
   ]
  },
  {
   "cell_type": "code",
   "execution_count": null,
   "metadata": {},
   "outputs": [],
   "source": [
    "#program for the requirement , input a3z2b4 and expected output aaaabbbcc."
   ]
  },
  {
   "cell_type": "code",
   "execution_count": null,
   "metadata": {},
   "outputs": [],
   "source": [
    "#program for the requirement , input aaaabbbccz and expected output 4a3b2c1z."
   ]
  },
  {
   "cell_type": "code",
   "execution_count": null,
   "metadata": {},
   "outputs": [],
   "source": [
    "#program for the requirement , input a4k3b2 and expected output aeknbd."
   ]
  },
  {
   "cell_type": "code",
   "execution_count": 45,
   "metadata": {},
   "outputs": [
    {
     "name": "stdout",
     "output_type": "stream",
     "text": [
      "{'u', 'r', 's', 'n', 'k', 'm', 'p', 'i', 'a'}\n"
     ]
    }
   ],
   "source": [
    "#program to remove duplicate characters from the given input string.\n",
    "\n",
    "name=\"kumarisapna\"\n",
    "msg=set(name)\n",
    "print(msg)"
   ]
  },
  {
   "cell_type": "code",
   "execution_count": 49,
   "metadata": {},
   "outputs": [
    {
     "name": "stdout",
     "output_type": "stream",
     "text": [
      "[1, 1, 1, 3, 1, 1, 1, 1, 3, 1, 1, 3]\n"
     ]
    }
   ],
   "source": [
    "# find the no. of occurence of each character present in the given string with count().\n",
    "\n",
    "name=\"kumari sapna\"\n",
    "msg=list(name)\n",
    "occurence=[msg.count(x)for x in msg]\n",
    "print(occurence)"
   ]
  },
  {
   "cell_type": "code",
   "execution_count": null,
   "metadata": {},
   "outputs": [],
   "source": []
  },
  {
   "cell_type": "code",
   "execution_count": null,
   "metadata": {},
   "outputs": [],
   "source": []
  },
  {
   "cell_type": "code",
   "execution_count": null,
   "metadata": {},
   "outputs": [],
   "source": []
  },
  {
   "cell_type": "code",
   "execution_count": null,
   "metadata": {},
   "outputs": [],
   "source": []
  }
 ],
 "metadata": {
  "kernelspec": {
   "display_name": "Python 3",
   "language": "python",
   "name": "python3"
  },
  "language_info": {
   "codemirror_mode": {
    "name": "ipython",
    "version": 3
   },
   "file_extension": ".py",
   "mimetype": "text/x-python",
   "name": "python",
   "nbconvert_exporter": "python",
   "pygments_lexer": "ipython3",
   "version": "3.8.5"
  }
 },
 "nbformat": 4,
 "nbformat_minor": 2
}
