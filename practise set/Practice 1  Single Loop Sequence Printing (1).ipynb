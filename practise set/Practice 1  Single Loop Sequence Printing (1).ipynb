{
 "cells": [
  {
   "cell_type": "markdown",
   "metadata": {},
   "source": [
    "# Practice : Single Loop based patterns using for or while loop."
   ]
  },
  {
   "cell_type": "code",
   "execution_count": null,
   "metadata": {},
   "outputs": [],
   "source": [
    "# print : from 1 to 10."
   ]
  },
  {
   "cell_type": "code",
   "execution_count": null,
   "metadata": {},
   "outputs": [],
   "source": [
    "for x in range(1,11):\n",
    "    print(x , end = ' ')"
   ]
  },
  {
   "cell_type": "code",
   "execution_count": null,
   "metadata": {},
   "outputs": [],
   "source": [
    "# print : 2, 4, 6, 8 ...20.\n",
    "# trick1: always use this x as counter only.\n",
    "# trick2 : use one variable to represent one logic, so multiple logic , we can use multiple variables.\n",
    "#trick3 : use k to alternate things.\n",
    "# what is the logic represents here : it means find the reasoning of the problem, \n",
    "#what is the next element of the problem.\n",
    "\n",
    "a=2\n",
    "for x in range(1,11):\n",
    "    print(a, end=' ')\n",
    "    a=a+2"
   ]
  },
  {
   "cell_type": "code",
   "execution_count": null,
   "metadata": {},
   "outputs": [],
   "source": [
    "# print : 1^3, 2^3 ....10^3\n",
    "# since it represents only one logic.\n",
    "a=1\n",
    "for x in range(1,11):\n",
    "    print(a*a*a , end = ' ')\n",
    "    a=a+1"
   ]
  },
  {
   "cell_type": "code",
   "execution_count": null,
   "metadata": {},
   "outputs": [],
   "source": [
    "import math\n",
    "# # print : 1^1, 2^2 ....10^10\n",
    "# since it represents two logic.\n",
    "a=1\n",
    "power=1\n",
    "for x in range(1,11):\n",
    "    print(int(math.pow(a,power)) , end = ' ')\n",
    "    a=a+1\n",
    "    power=power +1"
   ]
  },
  {
   "cell_type": "code",
   "execution_count": null,
   "metadata": {},
   "outputs": [],
   "source": [
    "#print : 1^3,2^3.....10^3 (7)\n",
    "\n",
    "a=1\n",
    "for x in range(1,11):\n",
    "    print(a*a*a , end = ' ')\n",
    "    a=a+1"
   ]
  },
  {
   "cell_type": "code",
   "execution_count": null,
   "metadata": {},
   "outputs": [],
   "source": [
    "#print: 1,2,6,15,31\n",
    "\n",
    "import math\n",
    "a=1\n",
    "b=1\n",
    "\n",
    "for x in range(1,6):\n",
    "    print(a, end = ' ')\n",
    "    \n",
    "    "
   ]
  },
  {
   "cell_type": "code",
   "execution_count": null,
   "metadata": {},
   "outputs": [],
   "source": [
    "#print : 5, 7.5,15,,37.5, 112.5...\n",
    "import math\n",
    "a=5\n",
    "b=0.5\n",
    "for x in range(5,10):\n",
    "    print(a+(a*b), end = ' ')\n",
    "    a=a+1\n",
    "    b=b+1\n"
   ]
  },
  {
   "cell_type": "code",
   "execution_count": null,
   "metadata": {},
   "outputs": [],
   "source": [
    "#print : 1^2+1^3,2^2+2^3......10^2+10^3\n",
    "\n",
    "a=1\n",
    "b=1\n",
    "for x in range(1,11):\n",
    "    print (a*a+b*b*b , end = ' ')\n",
    "    a=a+1\n",
    "    b=b+1"
   ]
  },
  {
   "cell_type": "code",
   "execution_count": null,
   "metadata": {},
   "outputs": [],
   "source": [
    "#print: 1,2,2,4,3,6,4,8,5\n",
    "\n",
    "a=1\n",
    "b=2\n",
    "for x in range(1,6):\n",
    "    print(a,b , end = ' ')\n",
    "    a=a+1\n",
    "    b=b+2"
   ]
  },
  {
   "cell_type": "code",
   "execution_count": null,
   "metadata": {},
   "outputs": [],
   "source": [
    "#print : 1,2,1,2,1,2,1,2\n",
    "\n",
    "a=1\n",
    "b=2\n",
    "for x in range (1,5):\n",
    "    print(a,b ,end = ' ')\n",
    "    "
   ]
  },
  {
   "cell_type": "code",
   "execution_count": null,
   "metadata": {},
   "outputs": [],
   "source": [
    "#print : 1,2,3,4,5,6,5,4,3,2,1\n",
    "\n",
    "a=1\n",
    "b=5\n",
    "for x in range (1,7):\n",
    "    print(a , end = ' ')\n",
    "    a=a+1\n",
    "for x in range (1,6):\n",
    "    print (b , end = ' ')\n",
    "    b=b-1"
   ]
  },
  {
   "cell_type": "code",
   "execution_count": null,
   "metadata": {},
   "outputs": [],
   "source": [
    "#print : 1,2,4,7,11,16,22.\n",
    "\n",
    "a=1\n",
    "b=1\n",
    "\n",
    "\n",
    "for x in range (1,11):\n",
    "    print (a, end = ' ')\n",
    "    a=a+b\n",
    "    b=b+1\n",
    "    "
   ]
  },
  {
   "cell_type": "code",
   "execution_count": null,
   "metadata": {},
   "outputs": [],
   "source": [
    "#print : 1,2,6,15,31....\n",
    "\n",
    "a=1\n",
    "b=1\n",
    "for x in range(1,11):\n",
    "    print(a , end = \" \")\n",
    "    a=a+b*b\n",
    "    b=b+1"
   ]
  },
  {
   "cell_type": "code",
   "execution_count": null,
   "metadata": {},
   "outputs": [],
   "source": [
    "#print : 19,22,50,103..\n",
    "\n",
    "a=19\n",
    "b=3\n",
    "c=25\n",
    "for i in range (1,11):\n",
    "    print (a, end = \" \")\n",
    "    a=a+b\n",
    "    b=b+c"
   ]
  },
  {
   "cell_type": "code",
   "execution_count": null,
   "metadata": {},
   "outputs": [],
   "source": [
    "#print : 5,7.5,15,37.5,112.5, ......\n",
    "\n",
    "a=5\n",
    "b=1.5\n",
    "\n",
    "for i in range (1,11):\n",
    "    print (a , end = \" \")\n",
    "    a=a*b\n",
    "    b=b+0.5"
   ]
  },
  {
   "cell_type": "code",
   "execution_count": null,
   "metadata": {},
   "outputs": [],
   "source": [
    "# print: 4,11,30,67,128,......\n",
    "a=4\n",
    "b=7\n",
    "c=12\n",
    "\n",
    "for i in range (1,11):\n",
    "    print(a , end = \" \")\n",
    "    a=a+b\n",
    "    b=b+c\n",
    "    c=c+6\n",
    "    \n",
    "    "
   ]
  },
  {
   "cell_type": "code",
   "execution_count": null,
   "metadata": {},
   "outputs": [],
   "source": [
    "# print: 0,5,18,43,84,145.....\n",
    "\n",
    "a=0\n",
    "b=5\n",
    "c=8\n",
    "\n",
    "for i in range(1,11):\n",
    "    print(a , end = ' ')\n",
    "    a=a+b\n",
    "    b=b+c\n",
    "    c=c+4"
   ]
  },
  {
   "cell_type": "code",
   "execution_count": null,
   "metadata": {},
   "outputs": [],
   "source": [
    "#print: 13,41,85,145,221...\n",
    "\n",
    "a=2\n",
    "b=3\n",
    "\n",
    "for y in range (1,11):\n",
    "    print (a*a+b*b , end = \" \")\n",
    "    a=a+2\n",
    "    b=b+2"
   ]
  },
  {
   "cell_type": "code",
   "execution_count": null,
   "metadata": {},
   "outputs": [],
   "source": [
    "# print: 128,6,64,9,32,12,16,15,8,.....\n",
    "\n",
    "a=128\n",
    "b=6\n",
    "\n",
    "for d in range (1,11):\n",
    "    print(a,b , end = \" \")\n",
    "    a=a/2\n",
    "    b=b+3"
   ]
  },
  {
   "cell_type": "code",
   "execution_count": null,
   "metadata": {},
   "outputs": [],
   "source": [
    "print(5/2)"
   ]
  },
  {
   "cell_type": "code",
   "execution_count": null,
   "metadata": {},
   "outputs": [],
   "source": [
    "#print: 15,27,51,99,.....\n",
    "\n",
    "a=15\n",
    "b=2\n",
    "c=3\n",
    "\n",
    "for v in range (1,11):\n",
    "    print(a, end = ' ')\n",
    "    a=(a*b)-c"
   ]
  },
  {
   "cell_type": "code",
   "execution_count": null,
   "metadata": {},
   "outputs": [],
   "source": [
    "#print: 50,98,194,386,....\n",
    "\n",
    "a=50\n",
    "\n",
    "for i in range(1,11):\n",
    "    print(a , end= ' ')\n",
    "    a=(a*2)-2"
   ]
  },
  {
   "cell_type": "code",
   "execution_count": null,
   "metadata": {},
   "outputs": [],
   "source": [
    "#print: 45,91,184,371,746,....\n",
    "\n",
    "a=45\n",
    "b=1\n",
    "\n",
    "for i in range(1,11):\n",
    "    print(a , end = ' ')\n",
    "    a=(a*2)+b\n",
    "    b=b+1"
   ]
  },
  {
   "cell_type": "code",
   "execution_count": null,
   "metadata": {},
   "outputs": [],
   "source": [
    "#print: 1,5,9,17,25,37,49,......\n",
    "\n",
    "a=1\n",
    "b=2\n",
    "\n",
    "for i in range(1,11):\n",
    "    print(a*a,b*b+1, end = ' ')\n",
    "    a=a+2\n",
    "    b=b+2"
   ]
  },
  {
   "cell_type": "code",
   "execution_count": null,
   "metadata": {},
   "outputs": [],
   "source": [
    "#print: 972,108,18,6,...\n",
    "\n",
    "a=972\n",
    "b=9\n",
    "\n",
    "for i in range (1,4):\n",
    "    print(a, end = \" \")\n",
    "    a=a/b\n",
    "    b=b-3"
   ]
  },
  {
   "cell_type": "code",
   "execution_count": null,
   "metadata": {},
   "outputs": [],
   "source": [
    "#print: 22,42,64,88,114,....\n",
    "\n",
    "\n",
    "b=3\n",
    "c=13\n",
    "\n",
    "for i in range(1,11):\n",
    "    print(b*b+c , end= \" \")\n",
    "    b=b+1\n",
    "    c=c+13"
   ]
  },
  {
   "cell_type": "code",
   "execution_count": null,
   "metadata": {},
   "outputs": [],
   "source": [
    "#print: 215,19,163,63,127,....\n",
    "\n",
    "a=215\n",
    "b=14\n",
    "k=0\n",
    "for i in range(1,11):\n",
    "    if k==0:\n",
    "        print(a, end= \" \")\n",
    "        a=a-b*b\n",
    "        b=b-2\n",
    "        k=1\n",
    "    elif k==1:\n",
    "        print(a, end= \" \")\n",
    "        a=a+b*b\n",
    "        b=b-2\n",
    "        k=0\n",
    "        \n",
    "        \n",
    "    \n",
    "    \n",
    "    "
   ]
  },
  {
   "cell_type": "code",
   "execution_count": null,
   "metadata": {},
   "outputs": [],
   "source": [
    "#print: 23,39,32,48,41,57,....\n",
    "\n",
    "a=23\n",
    "b=39\n",
    "\n",
    "for i in range(1,11):\n",
    "    print(a,b, end= \" \")\n",
    "    a=a+9\n",
    "    b=b+9"
   ]
  },
  {
   "cell_type": "code",
   "execution_count": null,
   "metadata": {},
   "outputs": [],
   "source": [
    "#print: 3.5,4.5,11,48,...\n",
    "\n",
    "b=1\n",
    "c=3.5\n",
    "for i in range(1,11):\n",
    "    print(c, end= \" \")\n",
    "    c=(c*b)+b\n",
    "    b=b*2\n",
    "    "
   ]
  },
  {
   "cell_type": "code",
   "execution_count": 3,
   "metadata": {},
   "outputs": [
    {
     "name": "stdout",
     "output_type": "stream",
     "text": [
      "11 24 44 70 101 136 174 214 255 296 11 24 44 70 101 136 174 214 255 296 "
     ]
    }
   ],
   "source": [
    "# print: 11,24,44,70,101,.....\n",
    "\n",
    "a=11\n",
    "b=13\n",
    "c=7\n",
    "\n",
    "for i in range(1,11):\n",
    "    print(a, end= \" \")\n",
    "    a=a+b\n",
    "    b=b+c\n",
    "    c=c-1"
   ]
  },
  {
   "cell_type": "code",
   "execution_count": 4,
   "metadata": {},
   "outputs": [
    {
     "name": "stdout",
     "output_type": "stream",
     "text": [
      "2 9 28 65 126 217 344 513 730 1001 2 9 28 65 126 217 344 513 730 1001 "
     ]
    }
   ],
   "source": [
    "#print : 2,9,28,65,126,217,.....\n",
    "\n",
    "a=2\n",
    "b=7\n",
    "c=12\n",
    "\n",
    "for i in range (1,11):\n",
    "    print(a, end=\" \")\n",
    "    a=a+b\n",
    "    b=b+c\n",
    "    c=c+6"
   ]
  },
  {
   "cell_type": "code",
   "execution_count": 5,
   "metadata": {},
   "outputs": [
    {
     "name": "stdout",
     "output_type": "stream",
     "text": [
      "150 102 70 46.0 26.0 8.0 -9.0 -25.5 -41.75 -57.875 150 102 70 46.0 26.0 8.0 -9.0 -25.5 -41.75 -57.875 "
     ]
    }
   ],
   "source": [
    "#print: 150,102,70,46,26,...\n",
    "\n",
    "a=150\n",
    "b=48\n",
    "c=16\n",
    "for h in range (1,11):\n",
    "    print(a, end=\" \")\n",
    "    a=a-b\n",
    "    b=b-c\n",
    "    c=c/2"
   ]
  },
  {
   "cell_type": "code",
   "execution_count": 7,
   "metadata": {},
   "outputs": [
    {
     "name": "stdout",
     "output_type": "stream",
     "text": [
      "2 4 4 8 16 16 256 32 2 4 4 8 16 16 256 32 "
     ]
    }
   ],
   "source": [
    "#print: 2,4,4,8,16,16,256,32,....\n",
    "\n",
    "a=2\n",
    "b=4\n",
    "for l in range(1,5):\n",
    "    print(a,b, end=\" \")\n",
    "    a=a*a\n",
    "    b=b*2\n",
    " "
   ]
  },
  {
   "cell_type": "code",
   "execution_count": 11,
   "metadata": {},
   "outputs": [
    {
     "name": "stdout",
     "output_type": "stream",
     "text": [
      "123 234 345 456 567 678 789 8910 91011 101112 123 234 345 456 567 678 789 8910 91011 101112 "
     ]
    }
   ],
   "source": [
    "#print: 123,234,345,456,....\n",
    "\n",
    "a=1\n",
    "b=2\n",
    "c=3\n",
    "\n",
    "for i in range(1,11):\n",
    "    print(str(a) + str(b) + str(c), end=\" \")\n",
    "    a=a+1\n",
    "    b=b+1\n",
    "    c=c+1"
   ]
  },
  {
   "cell_type": "code",
   "execution_count": 5,
   "metadata": {},
   "outputs": [
    {
     "name": "stdout",
     "output_type": "stream",
     "text": [
      "1 3 11 35 99 259 643 1539 3587 8195 "
     ]
    }
   ],
   "source": [
    "#print: 1,3,11,35,99,.....\n",
    "import math\n",
    "a=1\n",
    "b=1\n",
    "c=1\n",
    "for i in range(1,11):\n",
    "    print(int(a), end=\" \")\n",
    "    a=a+b*math.pow(2,c)\n",
    "    b=b+1\n",
    "    c=c+1"
   ]
  },
  {
   "cell_type": "code",
   "execution_count": 3,
   "metadata": {},
   "outputs": [
    {
     "name": "stdout",
     "output_type": "stream",
     "text": [
      "2 8 24 64 160 384 896 "
     ]
    }
   ],
   "source": [
    "# print: 1*2,2*2^2,3*2^3,....\n",
    "import math\n",
    "a=1\n",
    "power=1\n",
    "\n",
    "for i in range (1,8):\n",
    "    print(int(a*math.pow(2,power)), end=\" \")\n",
    "    a=a+1\n",
    "    power=power +1\n",
    "    "
   ]
  },
  {
   "cell_type": "code",
   "execution_count": 6,
   "metadata": {},
   "outputs": [],
   "source": [
    "# series vs sequence : \n",
    "# sequence : till now, what we have done is sequence printing, \n",
    "# 1, 2 , 3 , 4 , 5 , 6 , \n",
    "# series : it is a combination of sequnce with some operators. (+ - , * , /)\n",
    "# series 1 : 1 + 2 - 3 + 4 + 5\n",
    "# series  : 1 + 2 + 3 + 4+ 5 +6\n",
    "\n",
    "\n",
    "# trick to solve this problem : create a variable name as sum or depening on the problems."
   ]
  },
  {
   "cell_type": "code",
   "execution_count": 9,
   "metadata": {},
   "outputs": [
    {
     "name": "stdout",
     "output_type": "stream",
     "text": [
      "1\n",
      "3\n",
      "6\n",
      "10\n",
      "15\n",
      "21\n",
      "28\n",
      "36\n",
      "45\n",
      "55\n",
      "55\n"
     ]
    }
   ],
   "source": [
    "sum =0\n",
    "a =1\n",
    "for  x in range(1,11):\n",
    "    sum = sum  + a\n",
    "    print(sum)\n",
    "    a=a+1\n",
    "\n",
    "print(sum)"
   ]
  },
  {
   "cell_type": "code",
   "execution_count": 11,
   "metadata": {},
   "outputs": [
    {
     "name": "stdout",
     "output_type": "stream",
     "text": [
      "1 2 6 24 120 720 5040 40320 362880 3628800  \n",
      " 3628800\n"
     ]
    }
   ],
   "source": [
    "mul=1\n",
    "a=1\n",
    "for x in range(1,11):\n",
    "    mul=mul *a\n",
    "    print(mul , end =\" \")\n",
    "    a=a+1\n",
    "    \n",
    "print(\" \\n\",mul)"
   ]
  },
  {
   "cell_type": "code",
   "execution_count": null,
   "metadata": {},
   "outputs": [],
   "source": []
  }
 ],
 "metadata": {
  "kernelspec": {
   "display_name": "Python 3",
   "language": "python",
   "name": "python3"
  },
  "language_info": {
   "codemirror_mode": {
    "name": "ipython",
    "version": 3
   },
   "file_extension": ".py",
   "mimetype": "text/x-python",
   "name": "python",
   "nbconvert_exporter": "python",
   "pygments_lexer": "ipython3",
   "version": "3.8.5"
  }
 },
 "nbformat": 4,
 "nbformat_minor": 4
}
