{
 "cells": [
  {
   "cell_type": "markdown",
   "metadata": {},
   "source": [
    "# Practice for Nested Loop."
   ]
  },
  {
   "cell_type": "code",
   "execution_count": 1,
   "metadata": {},
   "outputs": [],
   "source": [
    "# f(x): x is a real no.\n",
    "# f(g(x)) : g(x) is a function: nested function."
   ]
  },
  {
   "cell_type": "code",
   "execution_count": 3,
   "metadata": {},
   "outputs": [
    {
     "name": "stdout",
     "output_type": "stream",
     "text": [
      "<class 'int'>\n"
     ]
    }
   ],
   "source": [
    "print(type(10)) # this is an example of nested function."
   ]
  },
  {
   "cell_type": "code",
   "execution_count": 4,
   "metadata": {},
   "outputs": [],
   "source": [
    "# similarly , we have a concept of nested loop."
   ]
  },
  {
   "cell_type": "code",
   "execution_count": 8,
   "metadata": {},
   "outputs": [
    {
     "name": "stdout",
     "output_type": "stream",
     "text": [
      "1 2 3 4 5 "
     ]
    }
   ],
   "source": [
    "list1_=[1,2,3,4,5]\n",
    "list2_=[6,7,8,9,10]\n",
    "for x in list1_:\n",
    "    print(x, end=\" \")\n",
    "    "
   ]
  },
  {
   "cell_type": "code",
   "execution_count": 9,
   "metadata": {},
   "outputs": [
    {
     "name": "stdout",
     "output_type": "stream",
     "text": [
      "6 7 8 9 10 "
     ]
    }
   ],
   "source": [
    "for x in list2_:\n",
    "    print(x, end =\" \")"
   ]
  },
  {
   "cell_type": "code",
   "execution_count": 10,
   "metadata": {},
   "outputs": [
    {
     "name": "stdout",
     "output_type": "stream",
     "text": [
      "5\n"
     ]
    }
   ],
   "source": [
    "print(len(list1_))"
   ]
  },
  {
   "cell_type": "code",
   "execution_count": 18,
   "metadata": {},
   "outputs": [
    {
     "name": "stdout",
     "output_type": "stream",
     "text": [
      "16 17 18 19 110 \n",
      "\n",
      "26 27 28 29 210 \n",
      "\n",
      "36 37 38 39 310 \n",
      "\n",
      "46 47 48 49 410 \n",
      "\n",
      "56 57 58 59 510 \n",
      "\n"
     ]
    }
   ],
   "source": [
    "# requirement of the problems : use nested loop.\n",
    "# print : 16 , 17,18,19,110\n",
    "        # 26,27,28,29,210.\n",
    "\n",
    "\n",
    "for x in list1_:\n",
    "    for y in list2_:\n",
    "        print(str(x) + str(y) , end=\" \")\n",
    "    print(\"\\n\")\n",
    "    "
   ]
  },
  {
   "cell_type": "code",
   "execution_count": 19,
   "metadata": {},
   "outputs": [
    {
     "name": "stdout",
     "output_type": "stream",
     "text": [
      "61 62 63 64 65 \n",
      "\n",
      "71 72 73 74 75 \n",
      "\n",
      "81 82 83 84 85 \n",
      "\n",
      "91 92 93 94 95 \n",
      "\n",
      "101 102 103 104 105 \n",
      "\n"
     ]
    }
   ],
   "source": [
    "# requirement:\n",
    "# 61, 62,63, 64, 65\n",
    "# 71, 72, 73, 74, 75\n",
    "\n",
    "\n",
    "#101 102, 103, 104, 105\n",
    "\n",
    "for x in list2_:\n",
    "    for y in list1_:\n",
    "        print(str(x) + str (y), end=\" \")\n",
    "    print(\"\\n\")\n"
   ]
  },
  {
   "cell_type": "code",
   "execution_count": 20,
   "metadata": {},
   "outputs": [],
   "source": [
    "# to practice this concepts, we generally practice on star patterns based questions."
   ]
  },
  {
   "cell_type": "code",
   "execution_count": 25,
   "metadata": {},
   "outputs": [],
   "source": [
    "# single loop is used for single dimensional repetition either horizontally and vertically."
   ]
  },
  {
   "cell_type": "code",
   "execution_count": 27,
   "metadata": {},
   "outputs": [],
   "source": [
    "# nested loop is used for two dimensional repetition, table  ,where we have rows and columns."
   ]
  },
  {
   "cell_type": "code",
   "execution_count": null,
   "metadata": {},
   "outputs": [],
   "source": []
  },
  {
   "cell_type": "code",
   "execution_count": null,
   "metadata": {},
   "outputs": [],
   "source": []
  },
  {
   "cell_type": "code",
   "execution_count": 31,
   "metadata": {},
   "outputs": [
    {
     "name": "stdout",
     "output_type": "stream",
     "text": [
      "A A A A A "
     ]
    }
   ],
   "source": [
    "for row in range(1,6):\n",
    "    print(\"A\", end=\" \")"
   ]
  },
  {
   "cell_type": "code",
   "execution_count": 32,
   "metadata": {},
   "outputs": [
    {
     "name": "stdout",
     "output_type": "stream",
     "text": [
      "* * * * * \n",
      "\n",
      "* * * * * \n",
      "\n",
      "* * * * * \n",
      "\n",
      "* * * * * \n",
      "\n",
      "* * * * * \n",
      "\n"
     ]
    }
   ],
   "source": [
    "for x in range(1,6):\n",
    "    for y in range(1,6):\n",
    "        print(\"*\", end=\" \")\n",
    "    print(\"\\n\")"
   ]
  },
  {
   "cell_type": "code",
   "execution_count": 37,
   "metadata": {},
   "outputs": [
    {
     "name": "stdout",
     "output_type": "stream",
     "text": [
      "* * * * * \n",
      "\n",
      "* * * * \n",
      "\n",
      "* * * \n",
      "\n",
      "* * \n",
      "\n",
      "* \n",
      "\n"
     ]
    }
   ],
   "source": [
    "for x in range(1,6):\n",
    "    for y in range(0,6-x):\n",
    "        print(\"*\", end=\" \")\n",
    "    print(\"\\n\")"
   ]
  },
  {
   "cell_type": "code",
   "execution_count": 39,
   "metadata": {},
   "outputs": [
    {
     "name": "stdout",
     "output_type": "stream",
     "text": [
      "* * * * * * "
     ]
    }
   ],
   "source": [
    "for x in range(0,6):\n",
    "    print(\"*\" , end=\" \")"
   ]
  },
  {
   "cell_type": "code",
   "execution_count": 40,
   "metadata": {},
   "outputs": [
    {
     "name": "stdout",
     "output_type": "stream",
     "text": [
      "* * * * * "
     ]
    }
   ],
   "source": [
    "for x in range(0,5):\n",
    "    print(\"*\" , end=\" \")"
   ]
  },
  {
   "cell_type": "code",
   "execution_count": 41,
   "metadata": {},
   "outputs": [
    {
     "name": "stdout",
     "output_type": "stream",
     "text": [
      "* * * * "
     ]
    }
   ],
   "source": [
    "for x in range(0,4):\n",
    "    print(\"*\" , end=\" \")"
   ]
  },
  {
   "cell_type": "code",
   "execution_count": 42,
   "metadata": {},
   "outputs": [
    {
     "name": "stdout",
     "output_type": "stream",
     "text": [
      "* * * "
     ]
    }
   ],
   "source": [
    "for x in range(0,3):\n",
    "    print(\"*\" , end=\" \")"
   ]
  },
  {
   "cell_type": "code",
   "execution_count": 43,
   "metadata": {},
   "outputs": [
    {
     "name": "stdout",
     "output_type": "stream",
     "text": [
      "* * "
     ]
    }
   ],
   "source": [
    "for x in range(0,2):\n",
    "    print(\"*\" , end=\" \")"
   ]
  },
  {
   "cell_type": "code",
   "execution_count": 44,
   "metadata": {},
   "outputs": [
    {
     "name": "stdout",
     "output_type": "stream",
     "text": [
      "* "
     ]
    }
   ],
   "source": [
    "for x in range(0,1):\n",
    "    print(\"*\" , end=\" \")"
   ]
  },
  {
   "cell_type": "code",
   "execution_count": 47,
   "metadata": {},
   "outputs": [
    {
     "name": "stdout",
     "output_type": "stream",
     "text": [
      "* * * * * * \n",
      "\n",
      "* * * * * \n",
      "\n",
      "* * * * \n",
      "\n",
      "* * * \n",
      "\n",
      "* * \n",
      "\n",
      "* \n",
      "\n"
     ]
    }
   ],
   "source": [
    "for y in [6,5,4,3,2,1]:\n",
    "    \n",
    "    for x in range(0,y):\n",
    "        print(\"*\" , end=\" \")\n",
    "    print(\"\\n\")\n",
    "        \n",
    "    \n",
    "\n",
    "\n"
   ]
  },
  {
   "cell_type": "code",
   "execution_count": 48,
   "metadata": {},
   "outputs": [
    {
     "name": "stdout",
     "output_type": "stream",
     "text": [
      "* * * * * * \n",
      "\n",
      "* * * * * \n",
      "\n",
      "* * * * \n",
      "\n",
      "* * * \n",
      "\n",
      "* * \n",
      "\n",
      "* \n",
      "\n"
     ]
    }
   ],
   "source": [
    "for y in range(1,7):\n",
    "    \n",
    "    for x in range(0,7-y):\n",
    "        print(\"*\" , end=\" \")\n",
    "    print(\"\\n\")"
   ]
  },
  {
   "cell_type": "code",
   "execution_count": 50,
   "metadata": {},
   "outputs": [
    {
     "name": "stdout",
     "output_type": "stream",
     "text": [
      "7\n",
      "6\n",
      "5\n",
      "4\n",
      "3\n",
      "2\n",
      "1\n"
     ]
    }
   ],
   "source": [
    "for x in range(7,0,-1):\n",
    "    print(x)"
   ]
  },
  {
   "cell_type": "code",
   "execution_count": 54,
   "metadata": {},
   "outputs": [
    {
     "name": "stdout",
     "output_type": "stream",
     "text": [
      "* * * * \n",
      "\n",
      "  * * * \n",
      "\n",
      "    * * \n",
      "\n",
      "      * \n",
      "\n"
     ]
    }
   ],
   "source": [
    "for x in range(1,5):\n",
    "    for y in range(1,5):\n",
    "        if x<=y :\n",
    "            print(\"*\" , end=\" \")\n",
    "        else:\n",
    "            print(\" \", end =\" \")\n",
    "    print(\"\\n\")\n",
    "       "
   ]
  },
  {
   "cell_type": "code",
   "execution_count": 3,
   "metadata": {},
   "outputs": [
    {
     "name": "stdout",
     "output_type": "stream",
     "text": [
      "      * \n",
      "\n",
      "    * * \n",
      "\n",
      "  * * * \n",
      "\n",
      "* * * * \n",
      "\n"
     ]
    }
   ],
   "source": [
    "for x in range(1,5):\n",
    "    for y in range(1,5):\n",
    "        if y>=5-x and y<=4:\n",
    "            print(\"*\", end=\" \")\n",
    "        else:\n",
    "            print(\" \", end=\" \")\n",
    "    print(\"\\n\")\n",
    "            "
   ]
  },
  {
   "cell_type": "code",
   "execution_count": 70,
   "metadata": {},
   "outputs": [
    {
     "name": "stdout",
     "output_type": "stream",
     "text": [
      "      1       \n",
      "\n",
      "    1 2 A     \n",
      "\n",
      "  1 2 3 A B   \n",
      "\n",
      "1 2 3 4 A B C \n",
      "\n"
     ]
    }
   ],
   "source": [
    "# 1)\n",
    "for x in range(1,5):\n",
    "    m=1\n",
    "    n=65\n",
    "    for y in range(1, 8):\n",
    "        if  y>=5-x and y<=3 + x:\n",
    "            if y<=4:\n",
    "                print(m, end=\" \")\n",
    "                m=m+1\n",
    "            else:\n",
    "                print(chr(n),end=\" \")\n",
    "                n=n+1\n",
    "            \n",
    "        else:\n",
    "            print(\" \",end=\" \")\n",
    "    print(\"\\n\")\n"
   ]
  },
  {
   "cell_type": "code",
   "execution_count": 68,
   "metadata": {},
   "outputs": [
    {
     "name": "stdout",
     "output_type": "stream",
     "text": [
      "A\n"
     ]
    }
   ],
   "source": [
    "print(chr(65))"
   ]
  },
  {
   "cell_type": "code",
   "execution_count": 72,
   "metadata": {},
   "outputs": [],
   "source": [
    "# first code for the shape i.e just take each character available as a  *.\n",
    "# then, code for characters available , chr() , ord()."
   ]
  },
  {
   "cell_type": "code",
   "execution_count": 78,
   "metadata": {},
   "outputs": [
    {
     "name": "stdout",
     "output_type": "stream",
     "text": [
      "        1         \n",
      "\n",
      "      1 * 2       \n",
      "\n",
      "    1 * 2 * 3     \n",
      "\n",
      "  1 * 2 * 3 * 4   \n",
      "\n",
      "1 * 2 * 3 * 4 * 5 \n",
      "\n",
      "  1 * 2 * 3 * 4   \n",
      "\n",
      "    1 * 2 * 3     \n",
      "\n",
      "      1 * 2       \n",
      "\n",
      "        1         \n",
      "\n"
     ]
    }
   ],
   "source": [
    "# 2)\n",
    "for x in range(1,10):\n",
    "    a=1\n",
    "    k=True\n",
    "    for y in range(1,10):\n",
    "        if x<=5:\n",
    "            if y>=6-x and y<=4+x:\n",
    "                if k==True:\n",
    "                    print(a, end=\" \")\n",
    "                    a=a+1\n",
    "                    k=False\n",
    "                else:\n",
    "                    print(\"*\", end=\" \")\n",
    "                    k=True\n",
    "            else:\n",
    "                print(\" \",end=\" \")\n",
    "                \n",
    "        else:\n",
    "            if y>=x-4 and y<=14-x:\n",
    "                if k==True:\n",
    "                    print(a, end=\" \")\n",
    "                    a=a+1\n",
    "                    k=False\n",
    "                else:\n",
    "                    print(\"*\", end=\" \")\n",
    "                    k=True\n",
    "                \n",
    "            else:\n",
    "                print(\" \", end=\" \")\n",
    "    print(\"\\n\")    \n",
    "            "
   ]
  },
  {
   "cell_type": "markdown",
   "metadata": {},
   "source": [
    "# Else statement in for and while loops"
   ]
  },
  {
   "cell_type": "code",
   "execution_count": 82,
   "metadata": {},
   "outputs": [],
   "source": [
    "#in c++/ java, we do not have options to create else statements, but this possible \n",
    "# in python, it can be written with for and while loops."
   ]
  },
  {
   "cell_type": "code",
   "execution_count": 83,
   "metadata": {},
   "outputs": [
    {
     "name": "stdout",
     "output_type": "stream",
     "text": [
      "10\n",
      "12\n",
      "13\n",
      "14\n",
      "this is the else block of the for loop.\n"
     ]
    }
   ],
   "source": [
    "for x in [10,12,13,14]:\n",
    "    print(x)\n",
    "\n",
    "else:\n",
    "    print(\"this is the else block of the for loop.\")"
   ]
  },
  {
   "cell_type": "markdown",
   "metadata": {},
   "source": [
    "# Loop control statements"
   ]
  },
  {
   "cell_type": "code",
   "execution_count": 85,
   "metadata": {},
   "outputs": [],
   "source": [
    "# in every language , we have loop control statements.\n",
    "# 1) continue, 2) break and 3) pass.\n",
    "\n",
    "# it means when we use this statements, it is going to\n",
    "# control the loops somehow."
   ]
  },
  {
   "cell_type": "code",
   "execution_count": 89,
   "metadata": {},
   "outputs": [
    {
     "name": "stdout",
     "output_type": "stream",
     "text": [
      "1 2 3 "
     ]
    }
   ],
   "source": [
    "for x in range(1,11):\n",
    "    if x ==4:\n",
    "        break  # used to handle future problems.\n",
    "    print(x, end=\" \")\n",
    "#Break Statement: It brings control out of the loop."
   ]
  },
  {
   "cell_type": "code",
   "execution_count": 90,
   "metadata": {},
   "outputs": [
    {
     "name": "stdout",
     "output_type": "stream",
     "text": [
      "1 2 3 5 6 7 8 9 10 "
     ]
    }
   ],
   "source": [
    "for x in range(1,11):\n",
    "    if x ==4:\n",
    "        continue  # used to handle future problems.\n",
    "    print(x, end=\" \")\n",
    "\n",
    "#Continue Statement: It returns the control(cursor) to the beginning of the loop."
   ]
  },
  {
   "cell_type": "code",
   "execution_count": 91,
   "metadata": {},
   "outputs": [],
   "source": [
    "#Pass Statement: We use pass statement to write empty loops. \n",
    "#Pass is also used for empty control statement, function and classes."
   ]
  },
  {
   "cell_type": "code",
   "execution_count": 95,
   "metadata": {},
   "outputs": [],
   "source": [
    "for x in \"aBHIHShek\":\n",
    "    pass\n",
    "    "
   ]
  },
  {
   "cell_type": "code",
   "execution_count": 99,
   "metadata": {},
   "outputs": [],
   "source": [
    "# using while loops for iterating over elements of different data structures."
   ]
  },
  {
   "cell_type": "code",
   "execution_count": 101,
   "metadata": {},
   "outputs": [
    {
     "name": "stdout",
     "output_type": "stream",
     "text": [
      "1 2 3 35 56 65  \n",
      "\n",
      "1 2 3 35 56 65 "
     ]
    }
   ],
   "source": [
    "list_=[1,2,3,35,56,65]\n",
    "tuple_ =(1,2,3,35,56,65)\n",
    "set_= {1,2,3,35,56,65}\n",
    "string_=\"abhishek\"\n",
    "dict_={'name':\"abhishek\", 'age':20}\n",
    "\n",
    "\n",
    "\n",
    "for x in list_:\n",
    "    print(x, end=\" \")\n",
    "\n",
    "print(\" \\n\")\n",
    "\n",
    " \n",
    "#this will work only indexed supported data strututes : list , tuple , string.\n",
    "for x in range(len(list_)):\n",
    "    print(list_[x], end=\" \")\n",
    "\n"
   ]
  },
  {
   "cell_type": "code",
   "execution_count": 102,
   "metadata": {},
   "outputs": [
    {
     "name": "stdout",
     "output_type": "stream",
     "text": [
      "0\n",
      "1\n",
      "2\n",
      "3\n",
      "4\n",
      "5\n"
     ]
    }
   ],
   "source": [
    "for x in range(6):\n",
    "    print(x)"
   ]
  },
  {
   "cell_type": "code",
   "execution_count": 103,
   "metadata": {},
   "outputs": [],
   "source": [
    "# when traversing elements using while loop, we need len() function."
   ]
  },
  {
   "cell_type": "code",
   "execution_count": 2,
   "metadata": {},
   "outputs": [],
   "source": [
    "list_=[1,2,3,35,56,65]\n",
    "tuple_ =(1,2,3,35,56,65)\n",
    "set_= {1,2,3,35,56,65}\n",
    "string_=\"abhishek\"\n",
    "dict_={'name':\"abhishek\", 'age':20}"
   ]
  },
  {
   "cell_type": "code",
   "execution_count": 3,
   "metadata": {},
   "outputs": [
    {
     "name": "stdout",
     "output_type": "stream",
     "text": [
      "1 2 3 35 56 65 "
     ]
    }
   ],
   "source": [
    "index=0\n",
    "while index <len(list_):\n",
    "    print(list_[index], end=\" \")\n",
    "    index= index +1"
   ]
  },
  {
   "cell_type": "code",
   "execution_count": 6,
   "metadata": {},
   "outputs": [
    {
     "name": "stdout",
     "output_type": "stream",
     "text": [
      "1 2 3 35 56 65 "
     ]
    }
   ],
   "source": [
    "index=0\n",
    "while index <len(tuple_):\n",
    "    print(tuple_[index], end=\" \")\n",
    "    index= index +1"
   ]
  },
  {
   "cell_type": "code",
   "execution_count": 8,
   "metadata": {},
   "outputs": [],
   "source": [
    "# index=0\n",
    "# while index <len(set_):\n",
    "#     print(set_[index], end=\" \")\n",
    "#     index= index +1\n",
    "\n",
    "\n",
    "# while loop do not works for set and dictionary."
   ]
  },
  {
   "cell_type": "code",
   "execution_count": 9,
   "metadata": {},
   "outputs": [
    {
     "name": "stdout",
     "output_type": "stream",
     "text": [
      "a b h i s h e k "
     ]
    }
   ],
   "source": [
    "index=0\n",
    "while index <len(string_):\n",
    "    print(string_[index], end=\" \")\n",
    "    index= index +1"
   ]
  },
  {
   "cell_type": "code",
   "execution_count": 97,
   "metadata": {},
   "outputs": [],
   "source": [
    "# Unlike every other programming language we have used \n",
    "# before, Python does not have a switch or case statement. \n",
    "#To get around this fact, we use dictionary mapping."
   ]
  },
  {
   "cell_type": "code",
   "execution_count": 98,
   "metadata": {},
   "outputs": [],
   "source": [
    "# Function to convert number into string\n",
    "# Switcher is dictionary data type here\n",
    "def numbers_to_strings(argument):\n",
    "    switcher = {\n",
    "        0: \"zero\",\n",
    "        1: \"one\",\n",
    "        2: \"two\",\n",
    "    }\n",
    "\n",
    "    # get() method of dictionary data type returns \n",
    "    # value of passed argument if it is present \n",
    "    # in dictionary otherwise second argument will\n",
    "    # be assigned as default value of passed argument\n",
    "    return switcher.get(argument, \"nothing\")"
   ]
  },
  {
   "cell_type": "code",
   "execution_count": 10,
   "metadata": {},
   "outputs": [
    {
     "name": "stdout",
     "output_type": "stream",
     "text": [
      "* * * * * * * \n",
      "\n",
      "  * * * * *   \n",
      "\n",
      "    * * *     \n",
      "\n",
      "      *       \n",
      "\n"
     ]
    }
   ],
   "source": [
    "# 3) \n",
    "for x in range (1,5):\n",
    "    for y in range(1,8):\n",
    "        if y>=x and y<=8-x:\n",
    "            print(\"*\" ,end=\" \")\n",
    "            \n",
    "        else:\n",
    "            print(' ' ,end=\" \")\n",
    "    print(\"\\n\")\n",
    "        "
   ]
  },
  {
   "cell_type": "code",
   "execution_count": 11,
   "metadata": {},
   "outputs": [
    {
     "name": "stdout",
     "output_type": "stream",
     "text": [
      "*       \n",
      "\n",
      "* *     \n",
      "\n",
      "* * *   \n",
      "\n",
      "* * * * \n",
      "\n",
      "* * *   \n",
      "\n",
      "* *     \n",
      "\n",
      "*       \n",
      "\n"
     ]
    }
   ],
   "source": [
    "# 4)\n",
    "\n",
    "for x in range(1,8):\n",
    "    for y in range(1,5):\n",
    "        if x<=4:\n",
    "            if y>=1 and y<=x:\n",
    "                print(\"*\" ,end=\" \")\n",
    "            else:\n",
    "                print(\" \" ,end=\" \")\n",
    "        \n",
    "        else:\n",
    "            if y>=1 and y<=8-x:\n",
    "                print(\"*\" ,end=\" \")\n",
    "            else:\n",
    "                print(\" \" ,end=\" \")\n",
    "                \n",
    "    print(\"\\n\")"
   ]
  },
  {
   "cell_type": "code",
   "execution_count": 22,
   "metadata": {},
   "outputs": [
    {
     "name": "stdout",
     "output_type": "stream",
     "text": [
      "        * \n",
      "\n",
      "      * * \n",
      "\n",
      "    * * * \n",
      "\n",
      "  * * * * \n",
      "\n",
      "* * * * * \n",
      "\n",
      "  * * * * \n",
      "\n",
      "    * * * \n",
      "\n",
      "      * * \n",
      "\n",
      "        * \n",
      "\n"
     ]
    }
   ],
   "source": [
    "for x in range(1,10):\n",
    "    for y in range(1,6):\n",
    "        if x<=5:\n",
    "            if y>=6-x and y<=5:\n",
    "                 print(\"*\",end=\" \")\n",
    "                    \n",
    "            else:\n",
    "                print(\" \" ,end=\" \")\n",
    "        \n",
    "        else:\n",
    "            if y>=x-4 and y<=5:\n",
    "                print(\"*\" ,end=\" \") \n",
    "                    \n",
    "            else:\n",
    "                print(\" \" ,end=\" \")\n",
    "    print(\"\\n\")"
   ]
  },
  {
   "cell_type": "code",
   "execution_count": 33,
   "metadata": {},
   "outputs": [
    {
     "name": "stdout",
     "output_type": "stream",
     "text": [
      "        1 \n",
      "\n",
      "      1 2 \n",
      "\n",
      "    1 2 3 \n",
      "\n",
      "  1 2 3 4 \n",
      "\n",
      "1 2 3 4 5 \n",
      "\n",
      "  1 2 3 4 \n",
      "\n",
      "    1 2 3 \n",
      "\n",
      "      1 2 \n",
      "\n",
      "        1 \n",
      "\n"
     ]
    }
   ],
   "source": [
    "# 5)\n",
    "\n",
    "\n",
    "for x in range(1,10):\n",
    "    a=1\n",
    "    for y in range(1,6):\n",
    "        if x<=5:\n",
    "            if y>=6-x and y<=5:\n",
    "                print(a ,end=\" \")\n",
    "                a=a+1\n",
    "                    \n",
    "            else:\n",
    "                print(\" \" ,end=\" \")\n",
    "        \n",
    "        else:\n",
    "            if y>=x-4 and y<=5:\n",
    "                print(a ,end=\" \")\n",
    "                a=a+1\n",
    "    \n",
    "            else:\n",
    "                 print(\" \" ,end=\" \") \n",
    "            \n",
    "    print(\"\\n\")"
   ]
  },
  {
   "cell_type": "code",
   "execution_count": 7,
   "metadata": {},
   "outputs": [
    {
     "name": "stdout",
     "output_type": "stream",
     "text": [
      "        *         \n",
      "\n",
      "      * * *       \n",
      "\n",
      "    * * * * *     \n",
      "\n",
      "  * * * * * * *   \n",
      "\n",
      "* * * * * * * * * \n",
      "\n",
      "  * * * * * * *   \n",
      "\n",
      "    * * * * *     \n",
      "\n",
      "      * * *       \n",
      "\n",
      "        *         \n",
      "\n"
     ]
    }
   ],
   "source": [
    "# 6)\n",
    "\n",
    "for x in range(1,10):\n",
    "    for y in range(1,10):\n",
    "        if x<=5:\n",
    "            if y>=6-x and y<=x+4:\n",
    "                print(\"*\" ,end=\" \")\n",
    "            else:\n",
    "                print(\" \" ,end=\" \")\n",
    "                \n",
    "        else:\n",
    "            if y>=x-4 and y<=14-x:\n",
    "                print(\"*\" ,end=\" \")\n",
    "            else:\n",
    "                print(\" \" ,end=\" \")\n",
    "    print(\"\\n\")"
   ]
  },
  {
   "cell_type": "code",
   "execution_count": 15,
   "metadata": {},
   "outputs": [
    {
     "name": "stdout",
     "output_type": "stream",
     "text": [
      "6 5 4 3 2 1 0 \n",
      "\n",
      "5 4 3 2 1 0   \n",
      "\n",
      "4 3 2 1 0     \n",
      "\n",
      "3 2 1 0       \n",
      "\n",
      "2 1 0         \n",
      "\n",
      "1 0           \n",
      "\n",
      "0             \n",
      "\n"
     ]
    }
   ],
   "source": [
    "# 7)\n",
    "z=7\n",
    "for x in range(1,8):\n",
    "    z=z-1\n",
    "    a=z\n",
    "    for y in range(1,8):\n",
    "        if y>=1 and y<=8-x:\n",
    "            print(a ,end=\" \")\n",
    "            a=a-1\n",
    "            \n",
    "        else:\n",
    "            print(\" \" ,end=\" \")\n",
    "    print(\"\\n\")"
   ]
  },
  {
   "cell_type": "code",
   "execution_count": 17,
   "metadata": {},
   "outputs": [
    {
     "name": "stdout",
     "output_type": "stream",
     "text": [
      "* * * * * * * * * \n",
      "\n",
      "* * * *   * * * * \n",
      "\n",
      "* * *       * * * \n",
      "\n",
      "* *           * * \n",
      "\n",
      "*               * \n",
      "\n",
      "* *           * * \n",
      "\n",
      "* * *       * * * \n",
      "\n",
      "* * * *   * * * * \n",
      "\n",
      "* * * * * * * * * \n",
      "\n"
     ]
    }
   ],
   "source": [
    "# 8)\n",
    "\n",
    "for x in range( 1,10):\n",
    "    for y in range(1,10):\n",
    "        if x>=1 and x<=5:\n",
    "            if y>=7-x and y <=x+3:\n",
    "                print(\" \" ,end=\" \")\n",
    "            else:\n",
    "                print(\"*\" ,end=\" \")\n",
    "        else:\n",
    "            if y>=x-3 and y<=13-x:\n",
    "                print(\" \" ,end=\" \")\n",
    "            else:\n",
    "                print(\"*\" ,end=\" \")\n",
    "    print(\"\\n\")"
   ]
  },
  {
   "cell_type": "code",
   "execution_count": 34,
   "metadata": {},
   "outputs": [
    {
     "name": "stdout",
     "output_type": "stream",
     "text": [
      "      *       \n",
      "\n",
      "    * * *     \n",
      "\n",
      "  * * * * *   \n",
      "\n",
      "* * * * * * * \n",
      "\n"
     ]
    }
   ],
   "source": [
    "for x in range (1,5):\n",
    "    for y in range(1,8):\n",
    "        if y>=5-x and y<=3+x:\n",
    "            print(\"*\" ,end=\" \")\n",
    "        else:\n",
    "            print(\" \" ,end=\" \")\n",
    "    print(\"\\n\")"
   ]
  },
  {
   "cell_type": "code",
   "execution_count": 44,
   "metadata": {},
   "outputs": [
    {
     "name": "stdout",
     "output_type": "stream",
     "text": [
      "      A       \n",
      "\n",
      "    A B A     \n",
      "\n",
      "  A B C B A   \n",
      "\n",
      "A B C D C B A \n",
      "\n"
     ]
    }
   ],
   "source": [
    "#9)\n",
    "\n",
    "for x in range (1,5):\n",
    "    m=64\n",
    "    k=True\n",
    "    for y in range(1,8):\n",
    "        if y>=5-x and y<=3+x:\n",
    "            if y<=4:\n",
    "                m=m+1\n",
    "                print(chr(m) ,end=\" \")\n",
    "                \n",
    "            else:\n",
    "                if k==True:\n",
    "                    n=m-1\n",
    "                    k=False\n",
    "            \n",
    "                print(chr(n) ,end=\" \")\n",
    "                n=n-1\n",
    "                \n",
    "        else:\n",
    "            print(\" \" ,end=\" \")\n",
    "    print(\"\\n\")"
   ]
  },
  {
   "cell_type": "code",
   "execution_count": 15,
   "metadata": {},
   "outputs": [
    {
     "name": "stdout",
     "output_type": "stream",
     "text": [
      "      1       \n",
      "\n",
      "    2 3 *     \n",
      "\n",
      "  4 5 6 * *   \n",
      "\n",
      "7 8 9 10 * * * \n",
      "\n"
     ]
    }
   ],
   "source": [
    "# 10)\n",
    "\n",
    "m=1\n",
    "for x in range (1,5):\n",
    "    \n",
    "    for y in range(1,8):\n",
    "        if y>=5-x and y<=3+x:\n",
    "            if y<=4:\n",
    "                print(m ,end=\" \")\n",
    "                m=m+1\n",
    "                \n",
    "            else:\n",
    "                print(\"*\" ,end=\" \")\n",
    "        else:\n",
    "            print(\" \" ,end=\" \")\n",
    "    print(\"\\n\")"
   ]
  },
  {
   "cell_type": "code",
   "execution_count": 25,
   "metadata": {},
   "outputs": [
    {
     "name": "stdout",
     "output_type": "stream",
     "text": [
      "       *  *  *  *  * \n",
      "\n",
      "     *  *  *  *  *  * \n",
      "\n",
      "   *  *  *  *  *  *  * \n",
      "\n",
      " *  *  *  *  *  *  *  * \n",
      "\n"
     ]
    }
   ],
   "source": [
    "#11) \n",
    "\n",
    "for x in range (1,5):\n",
    "    m=65\n",
    "    for y in range(1,9):\n",
    "        if y>=5-x and y>=x-4:\n",
    "            print(\" *\" ,end=\" \")\n",
    "            \n",
    "        else:\n",
    "            print(\" \",end=\" \")\n",
    "    print(\"\\n\")"
   ]
  },
  {
   "cell_type": "code",
   "execution_count": null,
   "metadata": {},
   "outputs": [],
   "source": []
  },
  {
   "cell_type": "code",
   "execution_count": null,
   "metadata": {},
   "outputs": [],
   "source": []
  }
 ],
 "metadata": {
  "kernelspec": {
   "display_name": "Python 3",
   "language": "python",
   "name": "python3"
  },
  "language_info": {
   "codemirror_mode": {
    "name": "ipython",
    "version": 3
   },
   "file_extension": ".py",
   "mimetype": "text/x-python",
   "name": "python",
   "nbconvert_exporter": "python",
   "pygments_lexer": "ipython3",
   "version": "3.8.5"
  }
 },
 "nbformat": 4,
 "nbformat_minor": 4
}
