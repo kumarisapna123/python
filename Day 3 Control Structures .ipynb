{
 "cells": [
  {
   "cell_type": "markdown",
   "metadata": {},
   "source": [
    "# Control Structures."
   ]
  },
  {
   "cell_type": "code",
   "execution_count": 1,
   "metadata": {},
   "outputs": [],
   "source": [
    "#loops and if and if else."
   ]
  },
  {
   "cell_type": "code",
   "execution_count": 2,
   "metadata": {},
   "outputs": [],
   "source": [
    "#python 3 supports two types of loops .\n",
    "# 1) while loop\n",
    "# 2) for loop.\n",
    "\n",
    "\n",
    "# loops can be nested, which means outer loop can be while and \n",
    "# inner loop can be for loop and vice versa.\n",
    "\n",
    "# loops can also contains if , if else and if else ladder.\n",
    "\n",
    "# loops can have control statements (continue , break and pass)."
   ]
  },
  {
   "cell_type": "code",
   "execution_count": 4,
   "metadata": {},
   "outputs": [],
   "source": [
    "# loops : it is just a collection of iterations, iterations \n",
    "# may starts from 0 or 1. i.e iteration 0 or iteration 1.\n",
    "\n",
    "# there is no ending criteria to stop a loop.\n",
    "\n",
    "# so to write a loop, it requires three things : starting criteria\n",
    "\n",
    "# ending criteria and how iterations are changing from one another."
   ]
  },
  {
   "cell_type": "code",
   "execution_count": 5,
   "metadata": {},
   "outputs": [],
   "source": [
    "# in python we have two ways to write a loop.\n",
    "\n",
    "# 1) while loop \n",
    "# 2) for loop."
   ]
  },
  {
   "cell_type": "code",
   "execution_count": 6,
   "metadata": {},
   "outputs": [
    {
     "name": "stdout",
     "output_type": "stream",
     "text": [
      "hello world\n"
     ]
    }
   ],
   "source": [
    "print(\"hello world\")"
   ]
  },
  {
   "cell_type": "code",
   "execution_count": 7,
   "metadata": {},
   "outputs": [
    {
     "name": "stdout",
     "output_type": "stream",
     "text": [
      "hello world\n"
     ]
    }
   ],
   "source": [
    "0000   ?>0   print(\"hello world\")"
   ]
  },
  {
   "cell_type": "code",
   "execution_count": 8,
   "metadata": {},
   "outputs": [],
   "source": [
    "# but in case of control structures , indentation  problems occurs."
   ]
  },
  {
   "cell_type": "code",
   "execution_count": 9,
   "metadata": {},
   "outputs": [],
   "source": [
    "# when we use loops : when we need to do one loop repeatatively\n",
    "# with or without change."
   ]
  },
  {
   "cell_type": "code",
   "execution_count": 10,
   "metadata": {},
   "outputs": [
    {
     "name": "stdout",
     "output_type": "stream",
     "text": [
      "hello world\n",
      "hello world\n",
      "hello world\n",
      "hello world\n"
     ]
    }
   ],
   "source": [
    "print(\"hello world\")\n",
    "print(\"hello world\")\n",
    "print(\"hello world\")\n",
    "print(\"hello world\")"
   ]
  },
  {
   "cell_type": "code",
   "execution_count": 12,
   "metadata": {},
   "outputs": [
    {
     "name": "stdout",
     "output_type": "stream",
     "text": [
      "hello world\n",
      "hello world\n",
      "hello world\n",
      "hello world\n"
     ]
    }
   ],
   "source": [
    "count=1000\n",
    "\n",
    "while (count <=1003):\n",
    "    print(\"hello world\")\n",
    "    count=count+1\n",
    "\n"
   ]
  },
  {
   "cell_type": "code",
   "execution_count": null,
   "metadata": {},
   "outputs": [],
   "source": [
    "print(\"Abhishek\")"
   ]
  },
  {
   "cell_type": "code",
   "execution_count": 15,
   "metadata": {},
   "outputs": [
    {
     "name": "stdout",
     "output_type": "stream",
     "text": [
      "Abhishek\n",
      "Abhishek\n",
      "Abhishek\n",
      "Abhishek\n",
      "Abhishek\n",
      "Abhishek\n",
      "Abhishek\n",
      "Abhishek\n",
      "Abhishek\n",
      "Abhishek\n"
     ]
    }
   ],
   "source": [
    "count=11\n",
    "while count<=20:\n",
    "    print(\"Abhishek\")\n",
    "    count=count+1"
   ]
  },
  {
   "cell_type": "code",
   "execution_count": 22,
   "metadata": {},
   "outputs": [],
   "source": [
    "# this block specifies the function definition.\n",
    "\n",
    "\n",
    "def print_names(string ,y) :\n",
    "    count=1\n",
    "    while count<1+y:\n",
    "        print(string)\n",
    "        count=count+1\n",
    "        \n",
    "         \n",
    "        \n",
    "        \n",
    "   \n",
    "\n"
   ]
  },
  {
   "cell_type": "code",
   "execution_count": 23,
   "metadata": {},
   "outputs": [
    {
     "name": "stdout",
     "output_type": "stream",
     "text": [
      "abhishek\n",
      "abhishek\n",
      "abhishek\n",
      "abhishek\n",
      "abhishek\n"
     ]
    }
   ],
   "source": [
    "print_names('abhishek',5)"
   ]
  },
  {
   "cell_type": "code",
   "execution_count": 24,
   "metadata": {},
   "outputs": [
    {
     "name": "stdout",
     "output_type": "stream",
     "text": [
      "sapna\n",
      "sapna\n",
      "sapna\n",
      "sapna\n",
      "sapna\n",
      "sapna\n",
      "sapna\n",
      "sapna\n",
      "sapna\n",
      "sapna\n"
     ]
    }
   ],
   "source": [
    "print_names('sapna',10) # this is called function calling."
   ]
  },
  {
   "cell_type": "markdown",
   "metadata": {},
   "source": [
    "# Use of else statements with while loops."
   ]
  },
  {
   "cell_type": "code",
   "execution_count": 30,
   "metadata": {},
   "outputs": [],
   "source": [
    "# The else clause is only executed when your while \n",
    "# condition becomes false. If you break out of the loop, \n",
    "# or if an exception is raised, it won't be executed. \n",
    "\n",
    "# The else block just after for/while is executed only \n",
    "# when the loop is NOT terminated by a break statement."
   ]
  },
  {
   "cell_type": "code",
   "execution_count": 31,
   "metadata": {},
   "outputs": [],
   "source": [
    "# #syntax :\n",
    "# while condition:\n",
    "#      # execute these statements\n",
    "# else:\n",
    "#      # execute these statements"
   ]
  },
  {
   "cell_type": "code",
   "execution_count": 32,
   "metadata": {},
   "outputs": [],
   "source": [
    "# for loop: it is used for sequential traversal.\n",
    "# traversal means : process each and every element availabel in the below data structures / data types.\n",
    "\n",
    "# for example : to traverse a list , tuple,set, arrays,dict, strings and iterating by index of sequences, enumeration."
   ]
  },
  {
   "cell_type": "code",
   "execution_count": 35,
   "metadata": {},
   "outputs": [],
   "source": [
    "list_=[10,12,13,14,15,17]\n",
    "tuple_=(10,12,14,21,92)\n",
    "set_={10,12,14,21,15,32}\n",
    "dict_={1:'abhishek',2:'vikash',3:'arjun'}\n",
    "string_=\"abhishek\"\n",
    "\n"
   ]
  },
  {
   "cell_type": "code",
   "execution_count": 37,
   "metadata": {},
   "outputs": [
    {
     "name": "stdout",
     "output_type": "stream",
     "text": [
      "10 12 13 14 15 17 "
     ]
    }
   ],
   "source": [
    "# lets see the syntax: : process each element one by one , here processing in printing.\n",
    "\n",
    "#traverse the list:\n",
    "\n",
    "for x in list_:\n",
    "    print(x, end=' ')\n"
   ]
  },
  {
   "cell_type": "code",
   "execution_count": 41,
   "metadata": {},
   "outputs": [
    {
     "name": "stdout",
     "output_type": "stream",
     "text": [
      "11\n",
      "13\n",
      "14\n",
      "15\n",
      "16\n",
      "18\n"
     ]
    }
   ],
   "source": [
    "for x in list_:\n",
    "    print(x+1)"
   ]
  },
  {
   "cell_type": "code",
   "execution_count": 38,
   "metadata": {},
   "outputs": [
    {
     "name": "stdout",
     "output_type": "stream",
     "text": [
      "10 12 14 21 92 "
     ]
    }
   ],
   "source": [
    "# traverse the tuple : process each element one by one , here processing in printing.\n",
    "\n",
    "for x in tuple_:\n",
    "    print(x, end=' ')"
   ]
  },
  {
   "cell_type": "code",
   "execution_count": 90,
   "metadata": {},
   "outputs": [
    {
     "name": "stdout",
     "output_type": "stream",
     "text": [
      "10 \n",
      "12 \n",
      "14 \n",
      "21 \n",
      "92 \n",
      "32 10 12 14 15 21 "
     ]
    }
   ],
   "source": [
    "# traverse the set:traverse the tuple : process each element one by one , here processing in printing.\n",
    "\n",
    "for x in tuple_:\n",
    "    print(x, end=' \\n')\n",
    "\n",
    "for x in set_:\n",
    "    print(x,end=' ')\n"
   ]
  },
  {
   "cell_type": "code",
   "execution_count": 43,
   "metadata": {},
   "outputs": [
    {
     "name": "stdout",
     "output_type": "stream",
     "text": [
      "10 12 14 21 92 1 2 3 "
     ]
    }
   ],
   "source": [
    "#traverse the dict: traverse the tuple : process each element one by one , here processing in printing.\n",
    "\n",
    "for x in tuple_:\n",
    "    print(x, end=' ')\n",
    "\n"
   ]
  },
  {
   "cell_type": "code",
   "execution_count": 50,
   "metadata": {},
   "outputs": [
    {
     "name": "stdout",
     "output_type": "stream",
     "text": [
      "a b h i s h e k "
     ]
    }
   ],
   "source": [
    "for x in string_:\n",
    "    print(x, end=' ')"
   ]
  },
  {
   "cell_type": "code",
   "execution_count": 53,
   "metadata": {},
   "outputs": [],
   "source": [
    "# for x in dict_:\n",
    "#     print(x end=' ')   \n",
    "\n",
    "# dict in this way, it it going to print only keys, not the values."
   ]
  },
  {
   "cell_type": "code",
   "execution_count": 87,
   "metadata": {},
   "outputs": [
    {
     "name": "stdout",
     "output_type": "stream",
     "text": [
      "{1: 'abhishek', 2: 'vikash', 3: 'arjun'}\n"
     ]
    }
   ],
   "source": [
    "print(dict_)"
   ]
  },
  {
   "cell_type": "code",
   "execution_count": 88,
   "metadata": {},
   "outputs": [
    {
     "name": "stdout",
     "output_type": "stream",
     "text": [
      "arjun\n"
     ]
    }
   ],
   "source": [
    "print(dict_[3])"
   ]
  },
  {
   "cell_type": "code",
   "execution_count": 89,
   "metadata": {},
   "outputs": [
    {
     "name": "stdout",
     "output_type": "stream",
     "text": [
      "1 abhishek\n",
      "2 vikash\n",
      "3 arjun\n"
     ]
    }
   ],
   "source": [
    "for x in dict_:\n",
    "    print(x,dict_[x])"
   ]
  },
  {
   "cell_type": "code",
   "execution_count": null,
   "metadata": {},
   "outputs": [],
   "source": []
  },
  {
   "cell_type": "markdown",
   "metadata": {},
   "source": [
    "# iterating by index of sequences, enumeration using for loops"
   ]
  },
  {
   "cell_type": "code",
   "execution_count": 54,
   "metadata": {},
   "outputs": [
    {
     "name": "stdout",
     "output_type": "stream",
     "text": [
      "[10, 12, 15, 18, 19, 21]\n"
     ]
    }
   ],
   "source": [
    "# index starts from 0.\n",
    "\n",
    "list_ =[10,12,15,18,19,21]\n",
    "print(list_)"
   ]
  },
  {
   "cell_type": "code",
   "execution_count": 56,
   "metadata": {},
   "outputs": [
    {
     "name": "stdout",
     "output_type": "stream",
     "text": [
      "10\n"
     ]
    }
   ],
   "source": [
    "list_ =[10,12,15,18,19,21]\n",
    "print(list_[0])"
   ]
  },
  {
   "cell_type": "code",
   "execution_count": 57,
   "metadata": {},
   "outputs": [
    {
     "name": "stdout",
     "output_type": "stream",
     "text": [
      "12\n"
     ]
    }
   ],
   "source": [
    "list_ =[10,12,15,18,19,21]\n",
    "print(list_[1])"
   ]
  },
  {
   "cell_type": "code",
   "execution_count": 58,
   "metadata": {},
   "outputs": [
    {
     "name": "stdout",
     "output_type": "stream",
     "text": [
      "15\n"
     ]
    }
   ],
   "source": [
    "list_ =[10,12,15,18,19,21]\n",
    "print(list_[2])"
   ]
  },
  {
   "cell_type": "code",
   "execution_count": 59,
   "metadata": {},
   "outputs": [
    {
     "name": "stdout",
     "output_type": "stream",
     "text": [
      "18\n"
     ]
    }
   ],
   "source": [
    "list_ =[10,12,15,18,19,21]\n",
    "print(list_[3])"
   ]
  },
  {
   "cell_type": "code",
   "execution_count": null,
   "metadata": {},
   "outputs": [],
   "source": [
    "# as we know list and tuples suporrts indexes and set, dict does not suport indexes."
   ]
  },
  {
   "cell_type": "code",
   "execution_count": 81,
   "metadata": {},
   "outputs": [
    {
     "name": "stdout",
     "output_type": "stream",
     "text": [
      "10 12 15 18 19 21 "
     ]
    }
   ],
   "source": [
    "for abhishek in range(len(list_)):\n",
    "    print(list_[abhishek], end=\" \")"
   ]
  },
  {
   "cell_type": "code",
   "execution_count": 62,
   "metadata": {},
   "outputs": [],
   "source": [
    "# what is range and what is len."
   ]
  },
  {
   "cell_type": "code",
   "execution_count": 63,
   "metadata": {},
   "outputs": [],
   "source": [
    "# len returns the length of the complex data types."
   ]
  },
  {
   "cell_type": "code",
   "execution_count": 64,
   "metadata": {},
   "outputs": [
    {
     "name": "stdout",
     "output_type": "stream",
     "text": [
      "[10, 12, 15, 18, 19, 21]\n",
      "6\n"
     ]
    }
   ],
   "source": [
    "print(list_)\n",
    "print(len(list_))"
   ]
  },
  {
   "cell_type": "code",
   "execution_count": null,
   "metadata": {},
   "outputs": [],
   "source": [
    "#range : it makes a list of numbers with difference of steps."
   ]
  },
  {
   "cell_type": "code",
   "execution_count": 65,
   "metadata": {},
   "outputs": [
    {
     "name": "stdout",
     "output_type": "stream",
     "text": [
      "range(0, 10)\n"
     ]
    }
   ],
   "source": [
    "#print(range(0,10)) : [0,1,2,3,4,5,6,7,8,9]"
   ]
  },
  {
   "cell_type": "code",
   "execution_count": 66,
   "metadata": {},
   "outputs": [],
   "source": [
    "#range(0,10,2) : [0,2,4,6,8]"
   ]
  },
  {
   "cell_type": "code",
   "execution_count": 67,
   "metadata": {},
   "outputs": [
    {
     "name": "stdout",
     "output_type": "stream",
     "text": [
      "[10, 12, 15, 18, 19, 21]\n"
     ]
    }
   ],
   "source": [
    "print(list_)"
   ]
  },
  {
   "cell_type": "code",
   "execution_count": 68,
   "metadata": {},
   "outputs": [
    {
     "name": "stdout",
     "output_type": "stream",
     "text": [
      "10\n"
     ]
    }
   ],
   "source": [
    "print(list_[0])"
   ]
  },
  {
   "cell_type": "code",
   "execution_count": 70,
   "metadata": {},
   "outputs": [
    {
     "name": "stdout",
     "output_type": "stream",
     "text": [
      "10 12 15 18 19 21 "
     ]
    }
   ],
   "source": [
    "for x in list_:\n",
    "    print(x, end=\" \")"
   ]
  },
  {
   "cell_type": "code",
   "execution_count": 76,
   "metadata": {},
   "outputs": [
    {
     "name": "stdout",
     "output_type": "stream",
     "text": [
      "10 12 15 18 19 21 "
     ]
    }
   ],
   "source": [
    "for x in [0,1,2,3,4,5]:\n",
    "    print(list_[x],end=\" \")"
   ]
  },
  {
   "cell_type": "code",
   "execution_count": 78,
   "metadata": {},
   "outputs": [
    {
     "name": "stdout",
     "output_type": "stream",
     "text": [
      "10 12 15 18 19 21 "
     ]
    }
   ],
   "source": [
    "# as we know list can be made from range() by passing the range values.\n",
    "# so we can replace a list(0,1,2,3,4,5) with range(0,6)\n",
    "for x in range(0,6):\n",
    "    print(list_[x],end=\" \")"
   ]
  },
  {
   "cell_type": "code",
   "execution_count": 80,
   "metadata": {},
   "outputs": [
    {
     "name": "stdout",
     "output_type": "stream",
     "text": [
      "10 12 15 18 19 21 "
     ]
    }
   ],
   "source": [
    "# as we know the 6 in the range values is dependent on the length of the list.\n",
    "# to make it specific, we can pass the lenth of the list.\n",
    "for x in range(len(list_)):\n",
    "    print(list_[x],end=\" \")"
   ]
  },
  {
   "cell_type": "code",
   "execution_count": 75,
   "metadata": {},
   "outputs": [
    {
     "name": "stdout",
     "output_type": "stream",
     "text": [
      "10 12 15 18 19 21 "
     ]
    }
   ],
   "source": [
    "for x in range(len(list_)):\n",
    "    print(list_[x],end=\" \")"
   ]
  },
  {
   "cell_type": "code",
   "execution_count": 74,
   "metadata": {},
   "outputs": [
    {
     "name": "stdout",
     "output_type": "stream",
     "text": [
      "10 12 14 21 92 "
     ]
    }
   ],
   "source": [
    "for x in range(len(tuple_)):\n",
    "    print(tuple_[x],end=\" \")"
   ]
  },
  {
   "cell_type": "code",
   "execution_count": 82,
   "metadata": {},
   "outputs": [
    {
     "name": "stdout",
     "output_type": "stream",
     "text": [
      "0 1 2 3 4 5 6 7 8 9 "
     ]
    }
   ],
   "source": [
    "for x in range(0,10):\n",
    "    print(x,end=' ')"
   ]
  },
  {
   "cell_type": "code",
   "execution_count": 84,
   "metadata": {},
   "outputs": [
    {
     "name": "stdout",
     "output_type": "stream",
     "text": [
      "0 2 4 6 8 "
     ]
    }
   ],
   "source": [
    "for x in range(0,10,2):\n",
    "    print(x, end= \" \")"
   ]
  },
  {
   "cell_type": "code",
   "execution_count": 98,
   "metadata": {},
   "outputs": [],
   "source": [
    "# enumerate() : it is a python function which returns\n",
    "\n",
    "# list of tuples where each tuples is a (index,data) format."
   ]
  },
  {
   "cell_type": "code",
   "execution_count": 104,
   "metadata": {},
   "outputs": [
    {
     "name": "stdout",
     "output_type": "stream",
     "text": [
      "<enumerate object at 0x000001D389A14E40>\n"
     ]
    }
   ],
   "source": [
    "names=['abhishek','vikash','ranjan','sapna']\n",
    "print (enumerate(names))\n",
    "\n",
    "# output will be  : [(0,'abhishek'),(1,'vikash'),(2,'ranjan'),(3,'sapna')]"
   ]
  },
  {
   "cell_type": "code",
   "execution_count": 106,
   "metadata": {},
   "outputs": [
    {
     "name": "stdout",
     "output_type": "stream",
     "text": [
      "(0, 'abhishek')\n",
      "(1, 'vikash')\n",
      "(2, 'ranjan')\n",
      "(3, 'sapna')\n"
     ]
    }
   ],
   "source": [
    "names=['abhishek','vikash','ranjan','sapna']\n",
    "for x  in [(0,'abhishek'),(1,'vikash'),(2,'ranjan'),(3,'sapna')]:\n",
    "    print(x)"
   ]
  },
  {
   "cell_type": "code",
   "execution_count": 107,
   "metadata": {},
   "outputs": [
    {
     "name": "stdout",
     "output_type": "stream",
     "text": [
      " This is the index : 0 and this is the values at that index : abhishek \n",
      " This is the index : 1 and this is the values at that index : vikash \n",
      " This is the index : 2 and this is the values at that index : ranjan \n",
      " This is the index : 3 and this is the values at that index : sapna \n"
     ]
    }
   ],
   "source": [
    "names=['abhishek','vikash','ranjan','sapna']\n",
    "for x  in [(0,'abhishek'),(1,'vikash'),(2,'ranjan'),(3,'sapna')]:\n",
    "    print(\" This is the index : {} and this is the values at that index : {} \".format(x[0],x[1]))"
   ]
  },
  {
   "cell_type": "code",
   "execution_count": 108,
   "metadata": {},
   "outputs": [
    {
     "name": "stdout",
     "output_type": "stream",
     "text": [
      "(0, 'abhishek')\n",
      "(1, 'vikash')\n",
      "(2, 'ranjan')\n",
      "(3, 'sapna')\n"
     ]
    }
   ],
   "source": [
    "names=['abhishek','vikash','ranjan','sapna']\n",
    "for x  in enumerate(names):\n",
    "    print(x)"
   ]
  },
  {
   "cell_type": "code",
   "execution_count": 109,
   "metadata": {},
   "outputs": [
    {
     "name": "stdout",
     "output_type": "stream",
     "text": [
      " This is the index : 0 and this is the values at that index : abhishek \n",
      " This is the index : 1 and this is the values at that index : vikash \n",
      " This is the index : 2 and this is the values at that index : ranjan \n",
      " This is the index : 3 and this is the values at that index : sapna \n"
     ]
    }
   ],
   "source": [
    "names=['abhishek','vikash','ranjan','sapna']\n",
    "for x  in enumerate(names):\n",
    "    print(\" This is the index : {} and this is the values at that index : {} \".format(x[0],x[1]))"
   ]
  },
  {
   "cell_type": "code",
   "execution_count": 117,
   "metadata": {},
   "outputs": [
    {
     "name": "stdout",
     "output_type": "stream",
     "text": [
      "10\n",
      "<class 'int'>\n",
      "11 12\n",
      "<class 'int'> <class 'int'>\n"
     ]
    }
   ],
   "source": [
    "x=10\n",
    "print(x)\n",
    "print(type(x))\n",
    "y, z= 11,12\n",
    "print(y,z)\n",
    "print(type(y), type(z))"
   ]
  },
  {
   "cell_type": "code",
   "execution_count": 121,
   "metadata": {},
   "outputs": [
    {
     "name": "stdout",
     "output_type": "stream",
     "text": [
      "(12, 13)\n",
      "<class 'tuple'>\n"
     ]
    }
   ],
   "source": [
    "m=12,13\n",
    "print(m)\n",
    "print(type(m))\n"
   ]
  },
  {
   "cell_type": "code",
   "execution_count": 123,
   "metadata": {},
   "outputs": [
    {
     "name": "stdout",
     "output_type": "stream",
     "text": [
      "<class 'int'>\n"
     ]
    }
   ],
   "source": [
    "print(type(m[0]))"
   ]
  },
  {
   "cell_type": "code",
   "execution_count": null,
   "metadata": {},
   "outputs": [],
   "source": [
    "names=['abhishek','vikash','ranjan','sapna']\n",
    "for x  in enumerate(names):\n",
    "    print(\" This is the index : {} and this is the values at that index : {} \".format(x[0],x[1]))"
   ]
  },
  {
   "cell_type": "code",
   "execution_count": 124,
   "metadata": {},
   "outputs": [
    {
     "name": "stdout",
     "output_type": "stream",
     "text": [
      " This is the index : 0 and this is the values at that index : abhishek \n",
      " This is the index : 1 and this is the values at that index : vikash \n",
      " This is the index : 2 and this is the values at that index : ranjan \n",
      " This is the index : 3 and this is the values at that index : sapna \n"
     ]
    }
   ],
   "source": [
    "names=['abhishek','vikash','ranjan','sapna']\n",
    "for index, data  in enumerate(names):\n",
    "    print(\" This is the index : {} and this is the values at that index : {} \".format(index,data))"
   ]
  },
  {
   "cell_type": "code",
   "execution_count": 127,
   "metadata": {},
   "outputs": [
    {
     "name": "stdout",
     "output_type": "stream",
     "text": [
      "price is : 10  and name of the car is : belore\n",
      "price is : 20  and name of the car is : safari\n",
      "price is : 30  and name of the car is : audi\n",
      "price is : 40  and name of the car is : nano\n",
      "price is : 11 and name of the accessories is : wiper\n",
      "price is : 13 and name of the accessories is : music system\n"
     ]
    }
   ],
   "source": [
    "cars=['belore','safari','audi','nano']\n",
    "prices=[10,20,30,40,11,13]\n",
    "accessories=['wiper','music system']\n",
    "\n",
    "\n",
    "for index,data in enumerate(cars):\n",
    "    print('price is : {}  and name of the car is : {}'. format(prices[index],data))\n",
    "    \n"
   ]
  },
  {
   "cell_type": "code",
   "execution_count": 128,
   "metadata": {},
   "outputs": [
    {
     "name": "stdout",
     "output_type": "stream",
     "text": [
      "price is : 11 and name of the accessories is : wiper\n",
      "price is : 13 and name of the accessories is : music system\n"
     ]
    }
   ],
   "source": [
    "for index, data in enumerate(accessories):\n",
    "    print('price is : {} and name of the accessories is : {}'. format(prices[index + len(cars)], data))\n"
   ]
  },
  {
   "cell_type": "code",
   "execution_count": 129,
   "metadata": {},
   "outputs": [],
   "source": [
    "# lets do the same thing in a better way : use the ZIP function instead."
   ]
  },
  {
   "cell_type": "code",
   "execution_count": 137,
   "metadata": {},
   "outputs": [
    {
     "name": "stdout",
     "output_type": "stream",
     "text": [
      "(10, 'belore')\n",
      "(20, 'safari')\n",
      "(30, 'audi')\n",
      "(40, 'nano')\n"
     ]
    }
   ],
   "source": [
    "for x in zip(prices, cars):\n",
    "    print(x)\n",
    "    \n",
    "# here x represents here tuple."
   ]
  },
  {
   "cell_type": "code",
   "execution_count": 140,
   "metadata": {},
   "outputs": [
    {
     "name": "stdout",
     "output_type": "stream",
     "text": [
      "belore 10\n",
      "safari 20\n",
      "audi 30\n",
      "nano 40\n"
     ]
    }
   ],
   "source": [
    "for x, y in  zip(cars, prices):\n",
    "    print(x,y)\n",
    "\n",
    "# here x is a string and y is a int."
   ]
  },
  {
   "cell_type": "code",
   "execution_count": 142,
   "metadata": {},
   "outputs": [
    {
     "name": "stdout",
     "output_type": "stream",
     "text": [
      "belore 10\n",
      "safari 20\n",
      "audi 30\n",
      "nano 40\n"
     ]
    }
   ],
   "source": [
    "for x in zip(cars, prices):\n",
    "    print(x[0],x[1])\n",
    "\n",
    "# since x is tuple here and we know tuple support index , so we \n",
    "# find each of the element values using index i.e tuple_[0], tuple_[1]"
   ]
  },
  {
   "cell_type": "code",
   "execution_count": 144,
   "metadata": {},
   "outputs": [
    {
     "name": "stdout",
     "output_type": "stream",
     "text": [
      "('firstname', 'abhishek')\n",
      "('lastname', 'kumar')\n",
      "('age', 26)\n",
      "('address', 'gobarsahi')\n"
     ]
    }
   ],
   "source": [
    "# this lis_ is a list of elements, where each element is a tuple.\n",
    "lis_=[('firstname','abhishek'),('lastname','kumar'),('age',26),('address','gobarsahi')]\n",
    "for x in lis_:\n",
    "    print(x)"
   ]
  },
  {
   "cell_type": "code",
   "execution_count": 145,
   "metadata": {},
   "outputs": [
    {
     "name": "stdout",
     "output_type": "stream",
     "text": [
      "('firstname', 'lastname', 'age', 'address')\n",
      "('abhishek', 'kumar', 26, 'gobarsahi')\n"
     ]
    }
   ],
   "source": [
    "# to unzip a zipped list : list of tuples.\n",
    "l1,l2= zip(*lis_)\n",
    "print(l1)\n",
    "print(l2)"
   ]
  },
  {
   "cell_type": "code",
   "execution_count": 146,
   "metadata": {},
   "outputs": [],
   "source": [
    "# to again zip this element of l1 and l2.\n",
    "zipped_list = zip(l1,l2)"
   ]
  },
  {
   "cell_type": "code",
   "execution_count": 148,
   "metadata": {},
   "outputs": [
    {
     "name": "stdout",
     "output_type": "stream",
     "text": [
      "('firstname', 'abhishek')\n",
      "('lastname', 'kumar')\n",
      "('age', 26)\n",
      "('address', 'gobarsahi')\n"
     ]
    }
   ],
   "source": [
    "for x in  zipped_list:\n",
    "    print(x)"
   ]
  },
  {
   "cell_type": "code",
   "execution_count": 125,
   "metadata": {},
   "outputs": [],
   "source": [
    "# Use of enumerate function and zip function helps to achieve an effective \n",
    "# extension of iteration logic in python and solves many more \n",
    "# sub-problems of a huge task or problem."
   ]
  },
  {
   "cell_type": "code",
   "execution_count": null,
   "metadata": {},
   "outputs": [],
   "source": []
  },
  {
   "cell_type": "code",
   "execution_count": null,
   "metadata": {},
   "outputs": [],
   "source": []
  },
  {
   "cell_type": "code",
   "execution_count": null,
   "metadata": {},
   "outputs": [],
   "source": []
  },
  {
   "cell_type": "markdown",
   "metadata": {},
   "source": [
    "# Using else statements with for loops"
   ]
  },
  {
   "cell_type": "code",
   "execution_count": null,
   "metadata": {},
   "outputs": [],
   "source": []
  },
  {
   "cell_type": "code",
   "execution_count": null,
   "metadata": {},
   "outputs": [],
   "source": []
  },
  {
   "cell_type": "code",
   "execution_count": null,
   "metadata": {},
   "outputs": [],
   "source": []
  },
  {
   "cell_type": "code",
   "execution_count": null,
   "metadata": {},
   "outputs": [],
   "source": []
  },
  {
   "cell_type": "markdown",
   "metadata": {},
   "source": [
    "# Nested loops"
   ]
  },
  {
   "cell_type": "code",
   "execution_count": null,
   "metadata": {},
   "outputs": [],
   "source": []
  },
  {
   "cell_type": "markdown",
   "metadata": {},
   "source": [
    "# Loops Control Statements : break , continue , pass"
   ]
  },
  {
   "cell_type": "code",
   "execution_count": null,
   "metadata": {},
   "outputs": [],
   "source": []
  },
  {
   "cell_type": "code",
   "execution_count": null,
   "metadata": {},
   "outputs": [],
   "source": [
    "#Exercise : How to print a list in reverse order (from last to first item) using while and for in loops."
   ]
  },
  {
   "cell_type": "code",
   "execution_count": null,
   "metadata": {},
   "outputs": [],
   "source": []
  },
  {
   "cell_type": "code",
   "execution_count": null,
   "metadata": {},
   "outputs": [],
   "source": []
  },
  {
   "cell_type": "markdown",
   "metadata": {},
   "source": [
    "# 1) if  2) if else  3) if else ladder."
   ]
  },
  {
   "cell_type": "code",
   "execution_count": 149,
   "metadata": {},
   "outputs": [],
   "source": [
    "# lets see the syntax.\n",
    "# syntax for if \n",
    "# if condition:\n",
    "#     statements under if\n",
    "#     statements under if\n",
    "#     statements under if\n",
    "\n",
    "# statments not under if."
   ]
  },
  {
   "cell_type": "code",
   "execution_count": 1,
   "metadata": {},
   "outputs": [],
   "source": [
    "#example.\n",
    "# function definition : how the fucntion should work for me..\n",
    "\n",
    "def if_test(name):\n",
    "    if name=='abhishek':\n",
    "        name=name + ' kumar'\n",
    "        print(name)\n",
    "        x=input(\"Enter the age : \")\n",
    "        print(\"The age is : {}\".format(x))\n",
    "    \n",
    "    print(\"I am not under if statements..\")\n",
    "\n"
   ]
  },
  {
   "cell_type": "code",
   "execution_count": 161,
   "metadata": {},
   "outputs": [
    {
     "name": "stdout",
     "output_type": "stream",
     "text": [
      "I am not under if statements..\n"
     ]
    }
   ],
   "source": [
    "if_test(abhishek)"
   ]
  },
  {
   "cell_type": "code",
   "execution_count": 167,
   "metadata": {},
   "outputs": [
    {
     "name": "stdout",
     "output_type": "stream",
     "text": [
      "abhishe kumar sanu\n"
     ]
    }
   ],
   "source": [
    "# if else example.\n",
    "name='abhishe'\n",
    "if name=='abhishek':\n",
    "    print(name+ ' kumar')\n",
    "    \n",
    "\n",
    "else:\n",
    "    print(name + ' kumar sanu')\n",
    "    \n"
   ]
  },
  {
   "cell_type": "code",
   "execution_count": 174,
   "metadata": {},
   "outputs": [
    {
     "name": "stdout",
     "output_type": "stream",
     "text": [
      "sapna kumari\n"
     ]
    }
   ],
   "source": [
    "# if else  ladder  example.\n",
    "# in case of if else ladder, we go down to ladder only if we encounter false values.\n",
    "name='sapna'\n",
    "if name=='abhishek':\n",
    "    print(name+ ' kumar')\n",
    "    \n",
    "\n",
    "elif name=='sapna':\n",
    "    print(name + ' kumari')\n",
    "\n",
    "elif name=='sanu':\n",
    "    print(name +' kumar')\n",
    "\n",
    "else:\n",
    "    print('you are now in else statements.')"
   ]
  },
  {
   "cell_type": "code",
   "execution_count": 177,
   "metadata": {},
   "outputs": [],
   "source": [
    "# form handling using if else ladder.\n",
    "\n",
    "# if name.contains(int):\n",
    "#     print('first name is not correct..')\n",
    "\n",
    "# elif age<18:\n",
    "#     print(\"your age is incorrect..\")\n",
    "\n",
    "# elif ~email.contains('@gmail.com'):\n",
    "#     print(\"email is incorrect..\")\n",
    "\n",
    "# elif ~password.contains(uppercase):\n",
    "#     print('password is incorrect')\n",
    "\n",
    "# else:\n",
    "#     print(\"Your data is successfully submitted..\")\n",
    "    \n",
    "    \n",
    "    \n",
    "# one thing can be learnt from here : we always have to focus on the statments rather \n",
    "# than on conditions. \n",
    "# once statments found, then based those statements we can derive a condition."
   ]
  },
  {
   "cell_type": "code",
   "execution_count": null,
   "metadata": {},
   "outputs": [],
   "source": []
  }
 ],
 "metadata": {
  "kernelspec": {
   "display_name": "Python 3",
   "language": "python",
   "name": "python3"
  },
  "language_info": {
   "codemirror_mode": {
    "name": "ipython",
    "version": 3
   },
   "file_extension": ".py",
   "mimetype": "text/x-python",
   "name": "python",
   "nbconvert_exporter": "python",
   "pygments_lexer": "ipython3",
   "version": "3.8.5"
  }
 },
 "nbformat": 4,
 "nbformat_minor": 4
}
