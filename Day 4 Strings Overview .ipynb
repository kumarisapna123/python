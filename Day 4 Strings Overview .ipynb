{
 "cells": [
  {
   "cell_type": "markdown",
   "metadata": {},
   "source": [
    "# Strings"
   ]
  },
  {
   "cell_type": "code",
   "execution_count": null,
   "metadata": {},
   "outputs": [],
   "source": []
  },
  {
   "cell_type": "code",
   "execution_count": 1,
   "metadata": {},
   "outputs": [],
   "source": [
    "# what is string : string is a collection of characters.\n",
    "# what is characters : each and every key on the keyboard\n",
    "# represents a character, not only a-z and A-Z, spaces , special characters\n",
    "# and semicolon etc, all are characters.\n",
    "# in programming each character have been allocated unique \n",
    "# INTEGER values known as ASCII values."
   ]
  },
  {
   "cell_type": "code",
   "execution_count": 12,
   "metadata": {},
   "outputs": [
    {
     "name": "stdout",
     "output_type": "stream",
     "text": [
      "\u0001 \u0002 \u0003 \u0004 \u0005 \u0006 \u0007 \b \t \n",
      " \u000e \u000f \u0010 \u0011 \u0012 \u0013 \u0014 \u0015 \u0016 \u0017 \u0018 \u0019 \u001a \u001b \u001c",
      " \u001d",
      " \u001e",
      " \u001f   ! \" # $ % & ' ( ) * + , - . / 0 1 2 3 4 5 6 7 8 9 : ; < = > ? @ A B C D E F G H I J K L M N O P Q R S T U V W X Y Z [ \\ ] ^ _ ` a b c d e f g h i j k l m n o p q r s t u v w x y z { | } ~       ",
      "                             ¡ ¢ £ ¤ ¥ ¦ § ¨ © ª « ¬ ­ ® ¯ ° ± ² ³ ´ µ ¶ · ¸ ¹ º » ¼ ½ ¾ ¿ À Á Â Ã Ä Å Æ Ç È É Ê Ë Ì Í Î Ï Ð Ñ Ò Ó Ô Õ Ö × Ø Ù Ú Û Ü Ý Þ ß à á â ã ä å æ ç è é ê ë ì í î ï ð ñ ò ó ô õ ö ÷ ø ù ú û ü ý þ ÿ "
     ]
    }
   ],
   "source": [
    "for x in range(1,256):\n",
    "    print(chr(x), end=\" \")\n"
   ]
  },
  {
   "cell_type": "code",
   "execution_count": null,
   "metadata": {},
   "outputs": [],
   "source": []
  },
  {
   "cell_type": "code",
   "execution_count": 13,
   "metadata": {},
   "outputs": [],
   "source": [
    "#how to create strings : three ways.\n",
    "# 1) single quote\n",
    "# 2) double quote \n",
    "# 3) triple quote : It  is used when we have to write a string in multiple lines\n",
    "# and printing as it is without using any escape sequence."
   ]
  },
  {
   "cell_type": "code",
   "execution_count": 14,
   "metadata": {},
   "outputs": [
    {
     "name": "stdout",
     "output_type": "stream",
     "text": [
      "abhishek\n",
      "abhishek\n",
      "  My name is abhishe kumar.\n",
      "                 I live at muzaffarpur\n"
     ]
    }
   ],
   "source": [
    "name='abhishek'\n",
    "print(name)\n",
    "name=\"abhishek\"\n",
    "print(name)\n",
    "name ='''  My name is abhishe kumar.\n",
    "                 I live at muzaffarpur'''\n",
    "print(name)\n"
   ]
  },
  {
   "cell_type": "code",
   "execution_count": null,
   "metadata": {},
   "outputs": [],
   "source": []
  },
  {
   "cell_type": "code",
   "execution_count": 3,
   "metadata": {},
   "outputs": [],
   "source": [
    "# how to print single quote or double quote on screen : 2 ways.\n",
    "\n",
    "#1) use of escape sequence.\n",
    "#2) use of mix quotes."
   ]
  },
  {
   "cell_type": "code",
   "execution_count": 20,
   "metadata": {},
   "outputs": [
    {
     "name": "stdout",
     "output_type": "stream",
     "text": [
      "this is adam's book\n"
     ]
    }
   ],
   "source": [
    "# escape sequence technique.\n",
    "# this backward slash is known as escape character for string.\n",
    "msg='this is adam\\'s book'\n",
    "print(msg)"
   ]
  },
  {
   "cell_type": "code",
   "execution_count": 22,
   "metadata": {},
   "outputs": [
    {
     "name": "stdout",
     "output_type": "stream",
     "text": [
      "C:\\Users\\Oracle\\Pictures\\resume updated\n"
     ]
    }
   ],
   "source": [
    "path=\"C:\\\\Users\\\\Oracle\\\\Pictures\\\\resume updated\"\n",
    "print(path)"
   ]
  },
  {
   "cell_type": "code",
   "execution_count": 18,
   "metadata": {},
   "outputs": [
    {
     "name": "stdout",
     "output_type": "stream",
     "text": [
      "My project titled as \" Service oriented architecture\".\n"
     ]
    }
   ],
   "source": [
    "# mix quotes technique.\n",
    "msg='My project titled as \" Service oriented architecture\".'\n",
    "print(msg)"
   ]
  },
  {
   "cell_type": "code",
   "execution_count": 15,
   "metadata": {},
   "outputs": [
    {
     "name": "stdout",
     "output_type": "stream",
     "text": [
      " this is adam's book..\n"
     ]
    }
   ],
   "source": [
    "msg=\" this is adam's book..\"\n",
    "print(msg)"
   ]
  },
  {
   "cell_type": "code",
   "execution_count": null,
   "metadata": {},
   "outputs": [],
   "source": [
    "# # Acessing Characters in strings : string supports index.\n",
    "\n",
    "# in programming world, index always start with 0.\n",
    "\n",
    "# While accessing an index out of the range will cause an IndexError. Only Integers are allowed to be passed as an index, \n",
    "# float or other types will cause a TypeError."
   ]
  },
  {
   "cell_type": "code",
   "execution_count": 26,
   "metadata": {},
   "outputs": [
    {
     "name": "stdout",
     "output_type": "stream",
     "text": [
      "a\n",
      "b\n",
      "k\n"
     ]
    }
   ],
   "source": [
    "name=\"abhishek\"\n",
    "\n",
    "print(name[0])\n",
    "print(name[1])\n",
    "print(name[7])\n",
    "#print(name[8]) # it will show index error : out of range error.\n"
   ]
  },
  {
   "cell_type": "code",
   "execution_count": 35,
   "metadata": {},
   "outputs": [],
   "source": [
    "# what if i pass float and other values as index values : it will give us typerror.\n",
    "\n",
    "# print(name['a']) #: it gives error\n",
    "# print(name[1.0])"
   ]
  },
  {
   "cell_type": "code",
   "execution_count": 36,
   "metadata": {},
   "outputs": [
    {
     "name": "stdout",
     "output_type": "stream",
     "text": [
      "h\n"
     ]
    }
   ],
   "source": [
    "import math\n",
    "print(name[int(math.pow(2,1))])"
   ]
  },
  {
   "cell_type": "code",
   "execution_count": 37,
   "metadata": {},
   "outputs": [],
   "source": [
    "# string property : indexed , immutable(which can not be changed), but there is some hacks to this."
   ]
  },
  {
   "cell_type": "code",
   "execution_count": null,
   "metadata": {},
   "outputs": [],
   "source": [
    "# #Deleting/Updating from a string: -\n",
    "# #In Python, Updation or deletion of characters from a String is not allowed. This will cause an error \n",
    "# because item assignment \n",
    "# or item deletion from a String is not supported.\n",
    "\n",
    "# # we can update entire string as well.\n",
    "# # but we can delete entire string using del keyword.\n",
    "\n",
    "# This is because Strings are immutable, hence elements of a String cannot be changed once it has been assigned. \n",
    "# Only new strings can be reassigned to the same name.\n",
    "\n",
    "\n"
   ]
  },
  {
   "cell_type": "code",
   "execution_count": 48,
   "metadata": {},
   "outputs": [
    {
     "name": "stdout",
     "output_type": "stream",
     "text": [
      "abhilhek\n"
     ]
    },
    {
     "ename": "NameError",
     "evalue": "name 'name' is not defined",
     "output_type": "error",
     "traceback": [
      "\u001b[1;31m---------------------------------------------------------------------------\u001b[0m",
      "\u001b[1;31mNameError\u001b[0m                                 Traceback (most recent call last)",
      "\u001b[1;32m<ipython-input-48-883ca8605908>\u001b[0m in \u001b[0;36m<module>\u001b[1;34m\u001b[0m\n\u001b[0;32m     11\u001b[0m \u001b[1;33m\u001b[0m\u001b[0m\n\u001b[0;32m     12\u001b[0m \u001b[1;32mdel\u001b[0m \u001b[0mname\u001b[0m\u001b[1;33m\u001b[0m\u001b[1;33m\u001b[0m\u001b[0m\n\u001b[1;32m---> 13\u001b[1;33m \u001b[0mprint\u001b[0m\u001b[1;33m(\u001b[0m\u001b[0mname\u001b[0m\u001b[1;33m)\u001b[0m\u001b[1;33m\u001b[0m\u001b[1;33m\u001b[0m\u001b[0m\n\u001b[0m",
      "\u001b[1;31mNameError\u001b[0m: name 'name' is not defined"
     ]
    }
   ],
   "source": [
    "name=\"abhishek\"\n",
    "#name[4]='l' # typeerror :  'str' object does not support item assignment.\n",
    "\n",
    "# del name[4] # 'str' object doesn't support item deletion\n",
    "\n",
    "# it means, in string we can not  update a character and we can not delete a charater.\n",
    "# however, we can delete and update the entire string, can use this hack for updating the single \n",
    "# character and deleting single character in the string.\n",
    "\n",
    "name=\"abhilhek\"\n",
    "print(name)\n",
    "\n",
    "del name\n",
    "print(name)\n"
   ]
  },
  {
   "cell_type": "code",
   "execution_count": 50,
   "metadata": {},
   "outputs": [
    {
     "name": "stdout",
     "output_type": "stream",
     "text": [
      "C:\\Users\\Oracle\\Pictures\\resume updated\n"
     ]
    }
   ],
   "source": [
    "\n",
    "# To ignore the escape sequences in a String, r or R is used, this implies that the string is a raw string \n",
    "# and escape sequences inside it are to be ignored.\n",
    "# using r or R technique to skip the escape sequences.\n",
    "\n",
    "path=r\"C:\\Users\\Oracle\\Pictures\\resume updated\"\n",
    "print(path)"
   ]
  },
  {
   "cell_type": "code",
   "execution_count": null,
   "metadata": {},
   "outputs": [],
   "source": []
  },
  {
   "cell_type": "code",
   "execution_count": null,
   "metadata": {},
   "outputs": [],
   "source": []
  },
  {
   "cell_type": "code",
   "execution_count": null,
   "metadata": {},
   "outputs": [],
   "source": [
    "# formatting of strings : \n",
    "# 1) Default order.\n",
    "# 2) Positional formatting.\n",
    "# 3) Keyword formatting."
   ]
  },
  {
   "cell_type": "code",
   "execution_count": 58,
   "metadata": {},
   "outputs": [
    {
     "name": "stdout",
     "output_type": "stream",
     "text": [
      "My name is abhsihek I live at Muzaffarpur and i am pursuing Mtech my course.\n"
     ]
    }
   ],
   "source": [
    "# 1) Default formatting :\n",
    "\n",
    "print(\"My name is {} I live at {} and i am pursuing {} my course.\".format(\"abhsihek\",\"Muzaffarpur\",\"Mtech\"))"
   ]
  },
  {
   "cell_type": "code",
   "execution_count": 59,
   "metadata": {},
   "outputs": [
    {
     "name": "stdout",
     "output_type": "stream",
     "text": [
      "My name is abhsihek I live at Mtech and i am pursuing Muzaffarpur my course.\n"
     ]
    }
   ],
   "source": [
    "# 2) Positional formatting\n",
    "\n",
    "print(\"My name is {0} I live at {2} and i am pursuing {1} my course.\".format(\"abhsihek\",\"Muzaffarpur\",\"Mtech\"))"
   ]
  },
  {
   "cell_type": "code",
   "execution_count": 62,
   "metadata": {},
   "outputs": [],
   "source": [
    "# keyword formatting.\n",
    "\n",
    "#print(\"My name is {name} I live at {place} and i am pursuing {course} my course.\".format('name'=\"abhsihek\",'place'=\"Muzaffarpur\",'course'=\"Mtech\"))"
   ]
  },
  {
   "cell_type": "code",
   "execution_count": 78,
   "metadata": {},
   "outputs": [],
   "source": [
    "# Integers such as Binary, hexadecimal, etc. and floats can be rounded or displayed in \n",
    "# the exponent form with the use of format specifiers."
   ]
  },
  {
   "cell_type": "code",
   "execution_count": 79,
   "metadata": {},
   "outputs": [
    {
     "name": "stdout",
     "output_type": "stream",
     "text": [
      "10000\n"
     ]
    }
   ],
   "source": [
    "print(\"{0:b}\".format(16)) # for binary."
   ]
  },
  {
   "cell_type": "code",
   "execution_count": 80,
   "metadata": {},
   "outputs": [
    {
     "name": "stdout",
     "output_type": "stream",
     "text": [
      "20\n"
     ]
    }
   ],
   "source": [
    "print(\"{0:o}\".format(16)) # for octal"
   ]
  },
  {
   "cell_type": "code",
   "execution_count": 81,
   "metadata": {},
   "outputs": [
    {
     "name": "stdout",
     "output_type": "stream",
     "text": [
      "10\n"
     ]
    }
   ],
   "source": [
    "print(\"{0:x}\".format(16)) # for hexadecimal"
   ]
  },
  {
   "cell_type": "code",
   "execution_count": 82,
   "metadata": {},
   "outputs": [
    {
     "name": "stdout",
     "output_type": "stream",
     "text": [
      "1.656458e+02\n"
     ]
    }
   ],
   "source": [
    "print(\"{0:e}\".format(165.6458)) # for exponents means 10^ something."
   ]
  },
  {
   "cell_type": "code",
   "execution_count": 83,
   "metadata": {},
   "outputs": [
    {
     "name": "stdout",
     "output_type": "stream",
     "text": [
      "0.167\n"
     ]
    }
   ],
   "source": [
    "print(\"{0:.3f}\".format(1/6))"
   ]
  },
  {
   "cell_type": "code",
   "execution_count": 1,
   "metadata": {},
   "outputs": [
    {
     "name": "stdout",
     "output_type": "stream",
     "text": [
      "Geeks        for         geeks\n"
     ]
    }
   ],
   "source": [
    "print(\"{:<10}{:^10}{:>10}\".format(\"Geeks\", \"for\", \"geeks\"))\n",
    "\n",
    "# :< is used for left alignment.\n",
    "# :> is used for right alignment.\n",
    "# :^ is used for center alignment."
   ]
  },
  {
   "cell_type": "code",
   "execution_count": null,
   "metadata": {},
   "outputs": [],
   "source": []
  },
  {
   "cell_type": "code",
   "execution_count": 3,
   "metadata": {},
   "outputs": [
    {
     "name": "stdout",
     "output_type": "stream",
     "text": [
      "\n",
      "Left, center and right alignment with Formatting: \n",
      "|Geeks     |   for    |     Geeks|\n",
      "\n",
      " GeeksforGeeks   was founded in 2009!\n"
     ]
    }
   ],
   "source": [
    "#A string can be left() or center(^) justified with the use of format specifiers, separated by colon(:).\n",
    "\n",
    "\n",
    "# String alignment\n",
    "String1 = \"|{:<10}|{:^10}|{:>10}|\".format('Geeks','for','Geeks')\n",
    "print(\"\\nLeft, center and right alignment with Formatting: \")\n",
    "print(String1)\n",
    "\n",
    "# To demonstrate aligning of spaces \n",
    "String1 = \"\\n{0:^16} was founded in {1:<4}!\".format(\"GeeksforGeeks\", 2009)\n",
    "print(String1)\n"
   ]
  },
  {
   "cell_type": "code",
   "execution_count": null,
   "metadata": {},
   "outputs": [],
   "source": [
    "# The output of the boolean operations between the strings depends on following things:\n",
    "\n",
    "# empty strings --->‘false’ \n",
    "\n",
    "# non-empty string -----> ‘true’.\n",
    "\n",
    "# rule 1: For ‘and’ operator if left value is true, then right value is checked and returned. \n",
    "# rule 2 : If left value is false, then it is returned\n",
    "# rule 3: For ‘or’ operator if left value is true, then it is returned, otherwise if \n",
    "# rule 4: left value is false, then right value is returned.\n",
    "\n",
    "\n",
    "# Note that the bitwise operators (| , &) don’t work for strings."
   ]
  },
  {
   "cell_type": "code",
   "execution_count": 97,
   "metadata": {},
   "outputs": [
    {
     "name": "stdout",
     "output_type": "stream",
     "text": [
      "'Hello world'\n",
      "'Hello world'\n"
     ]
    }
   ],
   "source": [
    "#repr vs eval\n",
    "\n",
    "print(repr(\"Hello world\"))\n",
    "print(repr('Hello world'))\n"
   ]
  },
  {
   "cell_type": "code",
   "execution_count": 102,
   "metadata": {},
   "outputs": [
    {
     "name": "stdout",
     "output_type": "stream",
     "text": [
      "False\n"
     ]
    }
   ],
   "source": [
    "str1 = '' # boolean value ---> false.\n",
    "str2 = 'geeks'# boolean value ----> True.\n",
    "\n",
    "# repr is used to print the string along with the quotes\n",
    "\n",
    "# Returns str1\n",
    "print(bool(str1 and str2))"
   ]
  },
  {
   "cell_type": "code",
   "execution_count": 98,
   "metadata": {},
   "outputs": [
    {
     "name": "stdout",
     "output_type": "stream",
     "text": [
      "\n",
      "''\n",
      "'geeks'\n",
      "'geeks'\n",
      "'geeks'\n",
      "'for'\n",
      "'for'\n",
      "'geeks'\n",
      "False\n",
      "True\n"
     ]
    }
   ],
   "source": [
    "str1 = '' # boolean value ---> false.\n",
    "str2 = 'geeks'# boolean value ----> True.\n",
    "\n",
    "# repr is used to print the string along with the quotes\n",
    "\n",
    "# Returns str1\n",
    "print(str1 and str2)\n",
    "\n",
    "# Returns str1\n",
    "print(repr(str2 and str1))\n",
    "\n",
    "# Returns str2\t\n",
    "print(repr(str1 or str2))\n",
    "\n",
    "# Returns str2\n",
    "print(repr(str2 or str1))\t\n",
    "\n",
    "str1 = 'for'\n",
    "\n",
    "# Returns str2\n",
    "print(repr(str1 and str2))\n",
    "\n",
    "# Returns str1\n",
    "print(repr(str2 and str1))\n",
    "\n",
    "# Returns str1\t\n",
    "print(repr(str1 or str2))\n",
    "\n",
    "# Returns str2\t\n",
    "print(repr(str2 or str1))\t\n",
    "\n",
    "str1='geeks'\n",
    "\n",
    "# Returns False\n",
    "print(repr(not str1))\t\t\n",
    "\n",
    "str1 = ''\n",
    "\n",
    "# Returns True\n",
    "print(repr(not str1))\t\t\n",
    "\n",
    "\n",
    "\n"
   ]
  },
  {
   "cell_type": "markdown",
   "metadata": {},
   "source": [
    "# Very Important : String Slicing Concept"
   ]
  },
  {
   "cell_type": "code",
   "execution_count": null,
   "metadata": {},
   "outputs": [],
   "source": []
  },
  {
   "cell_type": "code",
   "execution_count": 6,
   "metadata": {},
   "outputs": [],
   "source": [
    "# what is slice : it is just a piece of anything.\n",
    "# string slicing : piece of strings."
   ]
  },
  {
   "cell_type": "code",
   "execution_count": 104,
   "metadata": {},
   "outputs": [],
   "source": [
    "msg=\" my name is abhishek kumar.\"\n",
    "slice1=\"my\"\n",
    "slice2=\"m\" # it is not the smallest..\n",
    "slice3=\"\" # it is the smallest slice from the msg.\n",
    "slice4=\" my name is abhishek kumar.\"\n",
    "slice5=\" is \"\n"
   ]
  },
  {
   "cell_type": "code",
   "execution_count": 105,
   "metadata": {},
   "outputs": [],
   "source": [
    "# how to slice a given string.\n",
    "# we will use index concept to slice the given string."
   ]
  },
  {
   "cell_type": "code",
   "execution_count": 106,
   "metadata": {},
   "outputs": [],
   "source": [
    "# what is indexing: each element of a string is assigned a values from left\n",
    "# to right starting from 0, this concept is called positive indexing.\n",
    "# positive indexing vs negative indexing.\n",
    "\n",
    "# negative indexing : we will assigned a values from right to left starting from -1,\n",
    "# this concept is called negative indexing."
   ]
  },
  {
   "cell_type": "code",
   "execution_count": 125,
   "metadata": {},
   "outputs": [
    {
     "name": "stdout",
     "output_type": "stream",
     "text": [
      "' my'\n",
      "' m'\n",
      "''\n",
      "' my name is abhishek kumar.'\n"
     ]
    }
   ],
   "source": [
    "msg=\" my name is abhishek kumar.\"\n",
    "slice1=msg[0:3]\n",
    "print(repr(slice1))\n",
    "slice2=msg[0:2] # it is not the smallest..\n",
    "print(repr(slice2))\n",
    "slice3=msg[0:0] # it is the smallest slice from the msg.\n",
    "print(repr(slice3))\n",
    "slice4=msg[0:]\n",
    "print(repr(slice4))\n",
    "\n",
    "slice5=\" is \"\n",
    "\n",
    "\n",
    "# these slices are called substring in programming world."
   ]
  },
  {
   "cell_type": "code",
   "execution_count": 126,
   "metadata": {},
   "outputs": [
    {
     "name": "stdout",
     "output_type": "stream",
     "text": [
      "a\n",
      "b\n",
      "k\n",
      "e\n",
      "a\n"
     ]
    }
   ],
   "source": [
    "name=\"abhishek\"\n",
    "print(name[0]) # first character\n",
    "print(name[1]) #second character\n",
    "print(name[-1]) # last character\n",
    "print(name[-2]) # second last character.\n",
    "print(name[-8]) # first character."
   ]
  },
  {
   "cell_type": "code",
   "execution_count": 127,
   "metadata": {},
   "outputs": [],
   "source": [
    "# lets see the syntax of the string slice notation."
   ]
  },
  {
   "cell_type": "code",
   "execution_count": 128,
   "metadata": {},
   "outputs": [],
   "source": [
    "# stringname[start : end : step] , where step == optional"
   ]
  },
  {
   "cell_type": "code",
   "execution_count": 129,
   "metadata": {},
   "outputs": [
    {
     "name": "stdout",
     "output_type": "stream",
     "text": [
      "ahse kmr\n",
      "abhishek  kumar\n"
     ]
    }
   ],
   "source": [
    "name =\"abhishek  kumar\"\n",
    "print(name[0::2])\n",
    "print(name[::])"
   ]
  },
  {
   "cell_type": "code",
   "execution_count": null,
   "metadata": {},
   "outputs": [],
   "source": []
  },
  {
   "cell_type": "code",
   "execution_count": 130,
   "metadata": {},
   "outputs": [],
   "source": [
    "#basic python-->1) machine learning (machine learning course).\n",
    "            #   2) Full stack developement. (learn python frameworks like flask or django.)\n",
    "            #   3) Competitive coding (data structures using python and \n",
    "        # algorithms using python.)"
   ]
  },
  {
   "cell_type": "code",
   "execution_count": 131,
   "metadata": {},
   "outputs": [],
   "source": [
    "# subtring using slicing concept: \n",
    "#string_name[begin : end : step] , step is optional."
   ]
  },
  {
   "cell_type": "code",
   "execution_count": 132,
   "metadata": {},
   "outputs": [],
   "source": [
    "# how to convert string into a list."
   ]
  },
  {
   "cell_type": "code",
   "execution_count": 134,
   "metadata": {},
   "outputs": [
    {
     "name": "stdout",
     "output_type": "stream",
     "text": [
      "['a', 'b', 'h', 'i', 's', 'h', 'e', 'k']\n"
     ]
    }
   ],
   "source": [
    "# first method : this methods is used when we have single word in a string.\n",
    "\n",
    "name=\"abhishek\"\n",
    "name=list(name)\n",
    "print(name)"
   ]
  },
  {
   "cell_type": "code",
   "execution_count": 135,
   "metadata": {},
   "outputs": [
    {
     "name": "stdout",
     "output_type": "stream",
     "text": [
      "['m', 'y', ' ', 'n', 'a', 'm', 'e', ' ', 'i', 's', ' ', 'a', 'b', 'h', 'i', 's', 'h', 'e', 'k']\n"
     ]
    }
   ],
   "source": [
    "# this methods is not useful for msg strings.\n",
    "msg=\"my name is abhishek\"\n",
    "print(list(msg))"
   ]
  },
  {
   "cell_type": "code",
   "execution_count": 137,
   "metadata": {},
   "outputs": [
    {
     "name": "stdout",
     "output_type": "stream",
     "text": [
      "['my', 'name', 'is', 'abhishek']\n"
     ]
    }
   ],
   "source": [
    "# second technique: split function.\n",
    "msg=\"my name is abhishek\"\n",
    "list1=msg.split()\n",
    "print(list1)"
   ]
  },
  {
   "cell_type": "code",
   "execution_count": 139,
   "metadata": {},
   "outputs": [
    {
     "name": "stdout",
     "output_type": "stream",
     "text": [
      "['Geeks', 'for', 'geeks']\n"
     ]
    }
   ],
   "source": [
    "msg=\"Geeks-for-geeks\"\n",
    "list1=msg.split('-') # this \"-\" is called delimiter.\n",
    "print(list1)"
   ]
  },
  {
   "cell_type": "code",
   "execution_count": 146,
   "metadata": {},
   "outputs": [
    {
     "name": "stdout",
     "output_type": "stream",
     "text": [
      "Geeks-for-geeks\n"
     ]
    }
   ],
   "source": [
    "# now how to concatenate list of strings.\n",
    "list2=['Geeks', 'for', 'geeks']\n",
    "msg='-'.join(list2)\n",
    "print(msg)"
   ]
  },
  {
   "cell_type": "code",
   "execution_count": null,
   "metadata": {},
   "outputs": [],
   "source": []
  },
  {
   "cell_type": "code",
   "execution_count": null,
   "metadata": {},
   "outputs": [],
   "source": []
  },
  {
   "cell_type": "code",
   "execution_count": 147,
   "metadata": {},
   "outputs": [],
   "source": [
    "# String Functions :\n",
    "\n",
    "\n",
    "# 1) find\n",
    "# 2) rfind\n",
    "# 3) startswith\n",
    "# 4) endswith\n",
    "# 5) count\n",
    "\n",
    "# 5) islower\n",
    "# 6) isupper\n",
    "# 7) lower\n",
    "# 8) upper\n",
    "# 9) swapcase\n",
    "# 10) title\n",
    "# 11) len\n",
    "# 13) center\n",
    "# 14) ljust\n",
    "# 15) rjust\n",
    "# 16) isaplha\n",
    "# 17) isalnum\n",
    "# 18) isspace\n",
    "# 19) join\n",
    "# 20) strip\n",
    "# 21) lstrip\n",
    "# 22) rstrip\n",
    "# 23) min\n",
    "# 24) max\n",
    "# 25) maketrans\n",
    "# 26) translate\n",
    "# 27) replace\n",
    "# 28) expandtabs"
   ]
  },
  {
   "cell_type": "code",
   "execution_count": null,
   "metadata": {},
   "outputs": [],
   "source": [
    "# 1) find(string, start,end) : it returns the index of the string first character of the first found string.\n",
    "# 2) rfind(string,start,end)  : it returns the index of the string first chracter of the last found string.\n",
    "# 3) startswith(string, start, end) : \n",
    "# 4) endswith(string, start,end)\n",
    "# 5) count(string, start,end)\n",
    "\n",
    "\n",
    "# for each , start and end is optional : default value is 0 and end-1."
   ]
  },
  {
   "cell_type": "code",
   "execution_count": 166,
   "metadata": {},
   "outputs": [],
   "source": [
    "msg='''An old man lived in the village. He was one of the most unfortunate people in the world. The whole village was tired of him; he was always gloomy, he constantly complained and was always in a bad mood.\n",
    "\n",
    "The longer he lived, the more bile he was becoming and the more poisonous were his words. People avoided him, because his misfortune became contagious. It was even unnatural and insulting to be happy next to him.\n",
    "\n",
    "He created the feeling of unhappiness in others.\n",
    "\n",
    "But one day, when he turned eighty years old, an incredible thing happened. Instantly everyone started hearing the rumour:'''"
   ]
  },
  {
   "cell_type": "code",
   "execution_count": 167,
   "metadata": {},
   "outputs": [
    {
     "data": {
      "text/plain": [
       "508"
      ]
     },
     "execution_count": 167,
     "metadata": {},
     "output_type": "execute_result"
    }
   ],
   "source": [
    "msg.find('old',10)"
   ]
  },
  {
   "cell_type": "code",
   "execution_count": 168,
   "metadata": {},
   "outputs": [
    {
     "data": {
      "text/plain": [
       "508"
      ]
     },
     "execution_count": 168,
     "metadata": {},
     "output_type": "execute_result"
    }
   ],
   "source": [
    "msg.rfind('old')"
   ]
  },
  {
   "cell_type": "code",
   "execution_count": 169,
   "metadata": {},
   "outputs": [
    {
     "data": {
      "text/plain": [
       "False"
      ]
     },
     "execution_count": 169,
     "metadata": {},
     "output_type": "execute_result"
    }
   ],
   "source": [
    "msg.startswith('B')"
   ]
  },
  {
   "cell_type": "code",
   "execution_count": 170,
   "metadata": {},
   "outputs": [
    {
     "data": {
      "text/plain": [
       "2"
      ]
     },
     "execution_count": 170,
     "metadata": {},
     "output_type": "execute_result"
    }
   ],
   "source": [
    "msg.count('old') "
   ]
  },
  {
   "cell_type": "code",
   "execution_count": 190,
   "metadata": {},
   "outputs": [],
   "source": [
    "# in programming world : small letters are called lowercase and capital(Block) letter are called Uppercase.\n",
    "\n",
    "# 5) islower\n",
    "# 6) isupper\n",
    "# 7) lower\n",
    "# 8) upper\n",
    "# 9) swapcase\n",
    "# 10) title\n",
    "# 11) len"
   ]
  },
  {
   "cell_type": "code",
   "execution_count": 191,
   "metadata": {},
   "outputs": [
    {
     "data": {
      "text/plain": [
       "True"
      ]
     },
     "execution_count": 191,
     "metadata": {},
     "output_type": "execute_result"
    }
   ],
   "source": [
    "name=\"abhishek\"\n",
    "name.islower()"
   ]
  },
  {
   "cell_type": "code",
   "execution_count": 192,
   "metadata": {},
   "outputs": [
    {
     "data": {
      "text/plain": [
       "False"
      ]
     },
     "execution_count": 192,
     "metadata": {},
     "output_type": "execute_result"
    }
   ],
   "source": [
    "name.isupper()"
   ]
  },
  {
   "cell_type": "code",
   "execution_count": 193,
   "metadata": {},
   "outputs": [
    {
     "data": {
      "text/plain": [
       "True"
      ]
     },
     "execution_count": 193,
     "metadata": {},
     "output_type": "execute_result"
    }
   ],
   "source": [
    "name=\"ABHISHEK\"\n",
    "name.isupper()"
   ]
  },
  {
   "cell_type": "code",
   "execution_count": 194,
   "metadata": {},
   "outputs": [
    {
     "data": {
      "text/plain": [
       "False"
      ]
     },
     "execution_count": 194,
     "metadata": {},
     "output_type": "execute_result"
    }
   ],
   "source": [
    "name=\"Abhishek\"\n",
    "name.isupper()"
   ]
  },
  {
   "cell_type": "code",
   "execution_count": 195,
   "metadata": {},
   "outputs": [
    {
     "name": "stdout",
     "output_type": "stream",
     "text": [
      "my name is abhishek kumar.\n"
     ]
    }
   ],
   "source": [
    "msg=\"My name is Abhishek KUMAR.\"\n",
    "print(msg.lower())\n"
   ]
  },
  {
   "cell_type": "code",
   "execution_count": 196,
   "metadata": {},
   "outputs": [
    {
     "name": "stdout",
     "output_type": "stream",
     "text": [
      "My name is Abhishek KUMAR.\n"
     ]
    }
   ],
   "source": [
    "print(msg)"
   ]
  },
  {
   "cell_type": "code",
   "execution_count": 197,
   "metadata": {},
   "outputs": [
    {
     "data": {
      "text/plain": [
       "'MY NAME IS ABHISHEK KUMAR.'"
      ]
     },
     "execution_count": 197,
     "metadata": {},
     "output_type": "execute_result"
    }
   ],
   "source": [
    "msg.upper()"
   ]
  },
  {
   "cell_type": "code",
   "execution_count": 198,
   "metadata": {},
   "outputs": [
    {
     "data": {
      "text/plain": [
       "'My Name Is Abhishek Kumar.'"
      ]
     },
     "execution_count": 198,
     "metadata": {},
     "output_type": "execute_result"
    }
   ],
   "source": [
    "msg.title()"
   ]
  },
  {
   "cell_type": "code",
   "execution_count": 199,
   "metadata": {},
   "outputs": [
    {
     "ename": "AttributeError",
     "evalue": "'str' object has no attribute 'len'",
     "output_type": "error",
     "traceback": [
      "\u001b[1;31m---------------------------------------------------------------------------\u001b[0m",
      "\u001b[1;31mAttributeError\u001b[0m                            Traceback (most recent call last)",
      "\u001b[1;32m<ipython-input-199-b624b681e01b>\u001b[0m in \u001b[0;36m<module>\u001b[1;34m\u001b[0m\n\u001b[1;32m----> 1\u001b[1;33m \u001b[0mmsg\u001b[0m\u001b[1;33m.\u001b[0m\u001b[0mlen\u001b[0m\u001b[1;33m(\u001b[0m\u001b[1;33m)\u001b[0m  \u001b[1;31m# it will show the error , because it is not a member function.\u001b[0m\u001b[1;33m\u001b[0m\u001b[1;33m\u001b[0m\u001b[0m\n\u001b[0m",
      "\u001b[1;31mAttributeError\u001b[0m: 'str' object has no attribute 'len'"
     ]
    }
   ],
   "source": [
    "msg.len()  # it will show the error , because it is not a member function."
   ]
  },
  {
   "cell_type": "code",
   "execution_count": 200,
   "metadata": {},
   "outputs": [
    {
     "data": {
      "text/plain": [
       "26"
      ]
     },
     "execution_count": 200,
     "metadata": {},
     "output_type": "execute_result"
    }
   ],
   "source": [
    "len(msg)"
   ]
  },
  {
   "cell_type": "code",
   "execution_count": 201,
   "metadata": {},
   "outputs": [
    {
     "data": {
      "text/plain": [
       "'My name is Abhishek KUMAR.'"
      ]
     },
     "execution_count": 201,
     "metadata": {},
     "output_type": "execute_result"
    }
   ],
   "source": [
    "msg"
   ]
  },
  {
   "cell_type": "code",
   "execution_count": 189,
   "metadata": {},
   "outputs": [
    {
     "data": {
      "text/plain": [
       "'mY NAME IS aBHISHEK kumar.'"
      ]
     },
     "execution_count": 189,
     "metadata": {},
     "output_type": "execute_result"
    }
   ],
   "source": [
    "msg.swapcase()"
   ]
  },
  {
   "cell_type": "code",
   "execution_count": null,
   "metadata": {},
   "outputs": [],
   "source": [
    "# 13) center : Center jutify   # these functions are used by full stack developers.\n",
    "# 14) ljust : left justify\n",
    "# 15) rjust : right justify\n",
    "# 16) isaplha :  if the string consists of only alphabets (26 alphabets.)\n",
    "# 17) isalnum : alphabets + numbers.\n",
    "# 18) isspace : This function returns true when all the characters in the string are spaces else returns false.\n",
    "# 19) join :  join the given lists as a string.\n",
    "# 20) strip : remove(strip) from both sides.\n",
    "# 21) lstrip : left strip(remove) the unwanted characters.\n",
    "# 22) rstrip : right strip(remove) the unwanted characters."
   ]
  },
  {
   "cell_type": "code",
   "execution_count": 203,
   "metadata": {},
   "outputs": [],
   "source": [
    "msg='''An old man lived in the village. He was one of the most unfortunate people in the world. The whole village was tired of him; he was always gloomy, he constantly complained and was always in a bad mood.\n",
    "\n",
    "                                The longer he lived, the more bile he was becoming and the more poisonous were his words. People avoided him, because his misfortune became contagious. It was even unnatural and insulting to be happy next to him.\n",
    "\n",
    "He created the feeling of unhappiness in others.\n",
    "\n",
    "          But one day, when he turned eighty years old, an incredible thing happened. Instantly everyone started hearing the rumour:'''"
   ]
  },
  {
   "cell_type": "code",
   "execution_count": 204,
   "metadata": {},
   "outputs": [
    {
     "name": "stdout",
     "output_type": "stream",
     "text": [
      "An old man lived in the village. He was one of the most unfortunate people in the world. The whole village was tired of him; he was always gloomy, he constantly complained and was always in a bad mood.\n",
      "\n",
      "                                The longer he lived, the more bile he was becoming and the more poisonous were his words. People avoided him, because his misfortune became contagious. It was even unnatural and insulting to be happy next to him.\n",
      "\n",
      "He created the feeling of unhappiness in others.\n",
      "\n",
      "          But one day, when he turned eighty years old, an incredible thing happened. Instantly everyone started hearing the rumour:\n"
     ]
    }
   ],
   "source": [
    "print(msg)"
   ]
  },
  {
   "cell_type": "code",
   "execution_count": 209,
   "metadata": {},
   "outputs": [
    {
     "data": {
      "text/plain": [
       "'An old man lived in the village. He was one of the most unfortunate people in the world. The whole village was tired of him; he was always gloomy, he constantly complained and was always in a bad mood.\\n\\n                                The longer he lived, the more bile he was becoming and the more poisonous were his words. People avoided him, because his misfortune became contagious. It was even unnatural and insulting to be happy next to him.\\n\\nHe created the feeling of unhappiness in others.\\n\\n          But one day, when he turned eighty years old, an incredible thing happened. Instantly everyone started hearing the rumour:'"
      ]
     },
     "execution_count": 209,
     "metadata": {},
     "output_type": "execute_result"
    }
   ],
   "source": [
    "msg.center(20,'-')"
   ]
  },
  {
   "cell_type": "code",
   "execution_count": 212,
   "metadata": {},
   "outputs": [
    {
     "data": {
      "text/plain": [
       "False"
      ]
     },
     "execution_count": 212,
     "metadata": {},
     "output_type": "execute_result"
    }
   ],
   "source": [
    "msg=\"abhsihek1\"\n",
    "msg.isalpha()"
   ]
  },
  {
   "cell_type": "code",
   "execution_count": 216,
   "metadata": {},
   "outputs": [
    {
     "name": "stdout",
     "output_type": "stream",
     "text": [
      "your password is not strong..\n"
     ]
    }
   ],
   "source": [
    "password=\"abhi9835\"\n",
    "if password.isalnum()==True:\n",
    "    print(\"your password is not strong..\")\n",
    "else:\n",
    "    print(\"Your password is strong..\")"
   ]
  },
  {
   "cell_type": "code",
   "execution_count": 218,
   "metadata": {},
   "outputs": [
    {
     "data": {
      "text/plain": [
       "True"
      ]
     },
     "execution_count": 218,
     "metadata": {},
     "output_type": "execute_result"
    }
   ],
   "source": [
    "name=\"                 \"\n",
    "\n",
    "name.isspace()"
   ]
  },
  {
   "cell_type": "code",
   "execution_count": 219,
   "metadata": {},
   "outputs": [],
   "source": [
    "list1=[1,'abhishek',10.222,'Ram kunmar'] # any ds(data structure) can store\n",
    "# any simple data types."
   ]
  },
  {
   "cell_type": "code",
   "execution_count": 223,
   "metadata": {},
   "outputs": [
    {
     "ename": "TypeError",
     "evalue": "sequence item 0: expected str instance, int found",
     "output_type": "error",
     "traceback": [
      "\u001b[1;31m---------------------------------------------------------------------------\u001b[0m",
      "\u001b[1;31mTypeError\u001b[0m                                 Traceback (most recent call last)",
      "\u001b[1;32m<ipython-input-223-c6018e164e67>\u001b[0m in \u001b[0;36m<module>\u001b[1;34m\u001b[0m\n\u001b[0;32m      1\u001b[0m \u001b[1;31m# but in case of join, list passed as a paramter must contain only strings.\u001b[0m\u001b[1;33m\u001b[0m\u001b[1;33m\u001b[0m\u001b[1;33m\u001b[0m\u001b[0m\n\u001b[0;32m      2\u001b[0m \u001b[1;33m\u001b[0m\u001b[0m\n\u001b[1;32m----> 3\u001b[1;33m \u001b[0mmsg\u001b[0m\u001b[1;33m=\u001b[0m\u001b[1;34m' '\u001b[0m\u001b[1;33m.\u001b[0m\u001b[0mjoin\u001b[0m\u001b[1;33m(\u001b[0m\u001b[0mlist1\u001b[0m\u001b[1;33m)\u001b[0m\u001b[1;33m\u001b[0m\u001b[1;33m\u001b[0m\u001b[0m\n\u001b[0m\u001b[0;32m      4\u001b[0m \u001b[1;33m\u001b[0m\u001b[0m\n",
      "\u001b[1;31mTypeError\u001b[0m: sequence item 0: expected str instance, int found"
     ]
    }
   ],
   "source": [
    "# but in case of join, list passed as a paramter must contain only strings.\n",
    "\n",
    "msg=' '.join(list1)\n",
    "\n"
   ]
  },
  {
   "cell_type": "code",
   "execution_count": null,
   "metadata": {},
   "outputs": [],
   "source": []
  },
  {
   "cell_type": "code",
   "execution_count": 224,
   "metadata": {},
   "outputs": [
    {
     "name": "stdout",
     "output_type": "stream",
     "text": [
      "My name is Khan\n"
     ]
    }
   ],
   "source": [
    "print(\"{}\".format(' '.join(['My','name','is','Khan'])))"
   ]
  },
  {
   "cell_type": "code",
   "execution_count": 225,
   "metadata": {},
   "outputs": [
    {
     "data": {
      "text/plain": [
       "'Abhishek     kumar'"
      ]
     },
     "execution_count": 225,
     "metadata": {},
     "output_type": "execute_result"
    }
   ],
   "source": [
    "name=\"     Abhishek     kumar      \"\n",
    "name.strip()"
   ]
  },
  {
   "cell_type": "code",
   "execution_count": 226,
   "metadata": {},
   "outputs": [
    {
     "data": {
      "text/plain": [
       "'Abhishek     kumar      '"
      ]
     },
     "execution_count": 226,
     "metadata": {},
     "output_type": "execute_result"
    }
   ],
   "source": [
    "name=\"     Abhishek     kumar      \"\n",
    "name.lstrip()"
   ]
  },
  {
   "cell_type": "code",
   "execution_count": 227,
   "metadata": {},
   "outputs": [
    {
     "data": {
      "text/plain": [
       "'     Abhishek     kumar'"
      ]
     },
     "execution_count": 227,
     "metadata": {},
     "output_type": "execute_result"
    }
   ],
   "source": [
    "name=\"     Abhishek     kumar      \"\n",
    "name.rstrip()"
   ]
  },
  {
   "cell_type": "code",
   "execution_count": null,
   "metadata": {},
   "outputs": [],
   "source": [
    "# 23) min : it is not the member function.\n",
    "# 24) max : it is not the member function.\n",
    "\n",
    "# both these function are always used together.\n",
    "# 25) maketrans : it is used for finding the mapping(reasoning) between two string of same length.\n",
    "# 26) translate : this will used for translating the according to the given mapping.\n",
    "\n",
    "# refer to course for explanation.\n",
    "\n",
    "# 27) replace\n",
    "# 28) expandtabs"
   ]
  },
  {
   "cell_type": "code",
   "execution_count": 233,
   "metadata": {},
   "outputs": [
    {
     "data": {
      "text/plain": [
       "'A'"
      ]
     },
     "execution_count": 233,
     "metadata": {},
     "output_type": "execute_result"
    }
   ],
   "source": [
    "name=\"aAbhishek\" # means it compares by ascii value.\n",
    "# according to ascii values : A < Z < a < z\n",
    "min(name)"
   ]
  },
  {
   "cell_type": "code",
   "execution_count": 235,
   "metadata": {},
   "outputs": [
    {
     "name": "stdout",
     "output_type": "stream",
     "text": [
      "Character is : A and it ascii value is : 65\n",
      "Character is : b and it ascii value is : 98\n",
      "Character is : h and it ascii value is : 104\n",
      "Character is : i and it ascii value is : 105\n",
      "Character is : s and it ascii value is : 115\n",
      "Character is : h and it ascii value is : 104\n",
      "Character is : e and it ascii value is : 101\n",
      "Character is : k and it ascii value is : 107\n",
      "Character is : K and it ascii value is : 75\n",
      "Character is : u and it ascii value is : 117\n",
      "Character is : m and it ascii value is : 109\n",
      "Character is : a and it ascii value is : 97\n",
      "Character is : r and it ascii value is : 114\n"
     ]
    }
   ],
   "source": [
    "name=\"AbhishekKumar\"\n",
    "max(name)\n",
    "\n",
    "\n",
    "for x in name:\n",
    "    print(\"Character is : {} and it ascii value is : {}\" . format(x, ord(x)))"
   ]
  },
  {
   "cell_type": "code",
   "execution_count": null,
   "metadata": {},
   "outputs": [],
   "source": []
  },
  {
   "cell_type": "code",
   "execution_count": 242,
   "metadata": {},
   "outputs": [
    {
     "ename": "SyntaxError",
     "evalue": "Missing parentheses in call to 'print'. Did you mean print(\"The string after translation using mapped elements is : \")? (<ipython-input-242-9fa0c95dd519>, line 14)",
     "output_type": "error",
     "traceback": [
      "\u001b[1;36m  File \u001b[1;32m\"<ipython-input-242-9fa0c95dd519>\"\u001b[1;36m, line \u001b[1;32m14\u001b[0m\n\u001b[1;33m    print \"The string after translation using mapped elements is : \"\u001b[0m\n\u001b[1;37m          ^\u001b[0m\n\u001b[1;31mSyntaxError\u001b[0m\u001b[1;31m:\u001b[0m Missing parentheses in call to 'print'. Did you mean print(\"The string after translation using mapped elements is : \")?\n"
     ]
    }
   ],
   "source": [
    "# Python code to demonstrate working of \n",
    "# maketrans() and translate()\n",
    "from string import maketrans # for maketrans()\n",
    "\n",
    "str = \"geeksforgeeks\"\n",
    "\n",
    "str1 = \"gfo\"\n",
    "str2 = \"abc\"\n",
    "\n",
    "# using maktrans() to map elements of str2 with str1\n",
    "mapped = maketrans( str1, str2 )\n",
    "\n",
    "# using translate() to translate using the mapping\n",
    "print \"The string after translation using mapped elements is : \"\n",
    "print  str.translate(mapped) "
   ]
  },
  {
   "cell_type": "code",
   "execution_count": 243,
   "metadata": {},
   "outputs": [
    {
     "name": "stdout",
     "output_type": "stream",
     "text": [
      "The string after replacing strings is : geeksforgeeks is for nerds\n"
     ]
    }
   ],
   "source": [
    "# replace(str1,str2):\n",
    "\n",
    "str = \"nerdsfornerds is for nerds\"\n",
    "\n",
    "str1 = \"nerds\"\n",
    "str2 = \"geeks\"\n",
    "\n",
    "# using replace() to replace str2 with str1 in str\n",
    "# only changes 2 occurrences \n",
    "print (\"The string after replacing strings is : \", end=\"\")\n",
    "print (str.replace( str1, str2, 2)) "
   ]
  },
  {
   "cell_type": "code",
   "execution_count": null,
   "metadata": {},
   "outputs": [],
   "source": []
  },
  {
   "cell_type": "code",
   "execution_count": null,
   "metadata": {},
   "outputs": [],
   "source": [
    "# All about regular expressions : "
   ]
  },
  {
   "cell_type": "code",
   "execution_count": 228,
   "metadata": {},
   "outputs": [],
   "source": [
    "# What is regular Expression : It is an expression.\n",
    "# Regular expression used for pattern matching:\n",
    "# data which has some pattern in it, or when we\n",
    "# want data to be a pattern based, then we need regular expression.\n",
    "\n",
    "\n",
    "# to use this RE we need to import re module in python."
   ]
  },
  {
   "cell_type": "code",
   "execution_count": 229,
   "metadata": {},
   "outputs": [],
   "source": [
    "# 1) mobile number data in india has a pattern.\n",
    "# 2) email id data has  a pattern."
   ]
  },
  {
   "cell_type": "code",
   "execution_count": 230,
   "metadata": {},
   "outputs": [],
   "source": [
    "#to understand Regular expression, we need understand MetaChaaraceters  first:\n",
    "\n",
    "# there are total 14 metacharacters as follows which will be used in functions of moudulee  Re.\n"
   ]
  },
  {
   "cell_type": "code",
   "execution_count": null,
   "metadata": {},
   "outputs": [],
   "source": [
    "# \\   Used to drop the special meaning of character\n",
    "#     following it (discussed below)\n",
    "# []  Represent a character class\n",
    "# ^   Matches the beginning\n",
    "# $   Matches the end\n",
    "# .   Matches any character except newline\n",
    "# ?   Matches zero or one occurrence.\n",
    "# |   Means OR (Matches with any of the characters\n",
    "#     separated by it.\n",
    "# *   Any number of occurrences (including 0 occurrences)\n",
    "# +   One or more occurrences\n",
    "# {}  Indicate nu``mber of occurrences of a preceding RE \n",
    "#     to match.\n",
    "# ()  Enclose a group of REs\n"
   ]
  },
  {
   "cell_type": "code",
   "execution_count": null,
   "metadata": {},
   "outputs": [],
   "source": [
    "#examples :-\n",
    "\n",
    "# [abc] = a or b or c\n",
    "# [^abc] = any character expcept a, b, c\n",
    "# [a-z]= a to z\n",
    "# [A-Z] = A-Z\n",
    "# [a-z A-Z]=a to z , A-Z\n",
    "# [0-9] = 0-9\n",
    "\n",
    "\n",
    "# quantifiers : it tells about the repetition.\n",
    "\n",
    "# []? == occurs 0 or 1 time.\n",
    "# []+ == occurs 1 or more times.\n",
    "# []* == occurs 0 or more times.\n",
    "# []{n} == occurs n times.\n",
    "# []{n,}==occurs n or more times.\n",
    "# []{y,z}==occurs atleast y times but less than z times.\n",
    "\n",
    "\n",
    "\n",
    "# metacharacter are used for short form.\n",
    "\n",
    "# \\d === [0-9]\n",
    "# \\D === [^0-9]\n",
    "# \\w ===[a-z A-Z 0 -9]\n",
    "# \\W=== [^\\w]\n",
    "\n",
    "\n",
    "# \\d   Matches any decimal digit, this is equivalent\n",
    "#      to the set class [0-9].\n",
    "# \\D   Matches any non-digit character.\n",
    "# \\s   Matches any whitespace character.\n",
    "# \\S   Matches any non-whitespace character\n",
    "# \\w   Matches any alphanumeric character, this is\n",
    "#      equivalent to the class [a-zA-Z0-9_].\n",
    "# \\W   Matches any non-alphanumeric character\n",
    "\n",
    "# note  : \\ tells the compiler to treat the following \n",
    "# character as search character for '+' , '.'\n"
   ]
  },
  {
   "cell_type": "code",
   "execution_count": null,
   "metadata": {},
   "outputs": [],
   "source": [
    "# example 1:\n",
    "\n",
    "# 1) Mobile number -> start with 8 or 9 and total digits=10\n",
    "#  ans : [89][0-9]{9}\n",
    "        "
   ]
  },
  {
   "cell_type": "code",
   "execution_count": null,
   "metadata": {},
   "outputs": [],
   "source": [
    "# example 2. \n",
    "# first character uppercase , contains lowercase alphabet, only one\n",
    "# digit allowed in between.\n",
    "# [A-Z][a-z]*[0-9][a-z]*"
   ]
  },
  {
   "cell_type": "code",
   "execution_count": null,
   "metadata": {},
   "outputs": [],
   "source": [
    "# example 3.\n",
    "#  Email id : abhishekbtech14@gmail.com\n",
    "#         [a-z A-Z 0 -9 _ \\-\\.]+[@][a-z]+[\\.][a-z]{2,3}"
   ]
  }
 ],
 "metadata": {
  "kernelspec": {
   "display_name": "Python 3",
   "language": "python",
   "name": "python3"
  },
  "language_info": {
   "codemirror_mode": {
    "name": "ipython",
    "version": 3
   },
   "file_extension": ".py",
   "mimetype": "text/x-python",
   "name": "python",
   "nbconvert_exporter": "python",
   "pygments_lexer": "ipython3",
   "version": "3.8.5"
  }
 },
 "nbformat": 4,
 "nbformat_minor": 4
}
